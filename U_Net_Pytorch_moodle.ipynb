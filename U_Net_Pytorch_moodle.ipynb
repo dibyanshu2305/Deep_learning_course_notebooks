{
  "nbformat": 4,
  "nbformat_minor": 0,
  "metadata": {
    "colab": {
      "provenance": [],
      "collapsed_sections": [],
      "include_colab_link": true
    },
    "kernelspec": {
      "name": "python3",
      "display_name": "Python 3"
    },
    "language_info": {
      "name": "python"
    },
    "accelerator": "GPU",
    "gpuClass": "standard"
  },
  "cells": [
    {
      "cell_type": "markdown",
      "metadata": {
        "id": "view-in-github",
        "colab_type": "text"
      },
      "source": [
        "<a href=\"https://colab.research.google.com/github/dibyanshu2305/Deep_learning_course_notebooks/blob/main/U_Net_Pytorch_moodle.ipynb\" target=\"_parent\"><img src=\"https://colab.research.google.com/assets/colab-badge.svg\" alt=\"Open In Colab\"/></a>"
      ]
    },
    {
      "cell_type": "markdown",
      "source": [
        "# **U-Net on LiTS DATASET-**"
      ],
      "metadata": {
        "id": "VYQDM2Guv653"
      }
    },
    {
      "cell_type": "markdown",
      "source": [
        "## Prerequisites-"
      ],
      "metadata": {
        "id": "8RWSuwuJlwmZ"
      }
    },
    {
      "cell_type": "code",
      "source": [
        "import tensorflow as tf\n",
        "#tf.test.gpu_device_name()\n",
        "device_name = tf.test.gpu_device_name()\n",
        " if device_name != '/device:GPU:0':\n",
        "   raise SystemError('GPU device not found')\n",
        " print('Found GPU at: {}'.format(device_name))"
      ],
      "metadata": {
        "id": "B6J1dIs9Mg4u"
      },
      "execution_count": null,
      "outputs": []
    },
    {
      "cell_type": "markdown",
      "source": [
        "**Importing the libraries-**"
      ],
      "metadata": {
        "id": "hImfQeafv2Wd"
      }
    },
    {
      "cell_type": "code",
      "execution_count": null,
      "metadata": {
        "id": "d2bxeBqzM07q"
      },
      "outputs": [],
      "source": [
        "import torch\n",
        "import torchvision\n",
        "from torchvision import transforms\n",
        "import torchvision.datasets as datasets\n",
        "from torch import nn\n",
        "from torch import optim\n",
        "import torch.nn.functional as F\n",
        "import matplotlib.pyplot as plt\n",
        "import pandas as pd\n",
        "import numpy as np\n",
        "from torchvision.utils import make_grid\n",
        "from torch.utils.data.dataloader import DataLoader\n",
        "from torch.utils.data import random_split\n",
        "import os"
      ]
    },
    {
      "cell_type": "markdown",
      "source": [
        "#Loading the data-"
      ],
      "metadata": {
        "id": "iPSjVUsGv-1l"
      }
    },
    {
      "cell_type": "markdown",
      "source": [
        "## Mounting the Drive"
      ],
      "metadata": {
        "id": "ab-wI_9Gr3nz"
      }
    },
    {
      "cell_type": "code",
      "source": [
        "from google.colab import drive\n",
        "drive.mount('/content/drive')"
      ],
      "metadata": {
        "id": "Ld94s0r3mH54"
      },
      "execution_count": null,
      "outputs": []
    },
    {
      "cell_type": "markdown",
      "source": [
        "# Google drive path of the dataset\n",
        "Here we are using LiTS dataset sheets.\n",
        "\n",
        "First add the data directory into your drive with this link: \\\n",
        "https://drive.google.com/drive/folders/1-4i1gYvNx2qhoVGOg1-Rqc360lhgprZU?usp=sharing \\\n",
        "**Note: Use only IITB account for this.**\n",
        "\n",
        "\n",
        "Now change the path of the dataset :\n",
        "\\\n",
        "Image_Path = \"/content/drive/MyDrive/Liver Tumor Dataset Sheet/Image/\" \\\n",
        "Seg_Path = \"/content/drive/MyDrive/Liver Tumor Dataset Sheet/mask/\""
      ],
      "metadata": {
        "id": "qJypGX2drx02"
      }
    },
    {
      "cell_type": "code",
      "source": [
        "Image_names = os.listdir(\"/content/drive/MyDrive/Liver Tumor Dataset Sheet/Image/\")"
      ],
      "metadata": {
        "id": "IH63MUAi2u2_"
      },
      "execution_count": null,
      "outputs": []
    },
    {
      "cell_type": "code",
      "source": [
        "#len(Image_names)"
      ],
      "metadata": {
        "id": "1vM0VItSGAHV"
      },
      "execution_count": null,
      "outputs": []
    },
    {
      "cell_type": "code",
      "source": [
        "#Image_names"
      ],
      "metadata": {
        "id": "_riOlwPAKkpp"
      },
      "execution_count": null,
      "outputs": []
    },
    {
      "cell_type": "markdown",
      "source": [
        "## Loading the data from google drive folder"
      ],
      "metadata": {
        "id": "FSSZmIcfsNUf"
      }
    },
    {
      "cell_type": "code",
      "source": [
        "Data=[]\n",
        "k=0\n",
        "resize = transforms.Compose([transforms.Resize((128,128))])\n",
        "while k<2000:\n",
        "  i = Image_names[k]\n",
        "  img = torchvision.io.read_image(\"/content/drive/MyDrive/Liver Tumor Dataset Sheet/Image/\"+i)\n",
        "  img = resize(img / 255)\n",
        "  seg = torchvision.io.read_image(\"/content/drive/MyDrive/Liver Tumor Dataset Sheet/mask/seg_\"+i)\n",
        "  seg = resize(seg / 255)\n",
        "  Data.append([img,seg])\n",
        "  k += 1"
      ],
      "metadata": {
        "id": "gwtEzM3G0QNO"
      },
      "execution_count": null,
      "outputs": []
    },
    {
      "cell_type": "code",
      "source": [
        "len(Data)"
      ],
      "metadata": {
        "id": "wzR1zzJw8DVq"
      },
      "execution_count": null,
      "outputs": []
    },
    {
      "cell_type": "code",
      "source": [
        "Data[1][0].shape"
      ],
      "metadata": {
        "id": "KWJohzz6YTSA"
      },
      "execution_count": null,
      "outputs": []
    },
    {
      "cell_type": "markdown",
      "source": [
        "## **Train-Test Split**"
      ],
      "metadata": {
        "id": "lJ1rCi_E6diQ"
      }
    },
    {
      "cell_type": "code",
      "source": [
        "trainset, testset = torch.utils.data.random_split(Data, [int(0.8 * len(Data)), int(0.2 * len(Data))])"
      ],
      "metadata": {
        "id": "DCs5D8HV6cP4"
      },
      "execution_count": null,
      "outputs": []
    },
    {
      "cell_type": "code",
      "source": [
        "print(len(trainset))\n",
        "print(len(testset))"
      ],
      "metadata": {
        "id": "6DEYiNm5UfNR"
      },
      "execution_count": null,
      "outputs": []
    },
    {
      "cell_type": "code",
      "source": [
        "trainset[1]"
      ],
      "metadata": {
        "id": "R0KQ2V8x4lu-"
      },
      "execution_count": null,
      "outputs": []
    },
    {
      "cell_type": "code",
      "source": [
        "#shape of the image tensor\n",
        "img, label = trainset[0]\n",
        "img_shape = img.shape\n",
        "img_shape"
      ],
      "metadata": {
        "id": "DI8Y-UqZU6nt"
      },
      "execution_count": null,
      "outputs": []
    },
    {
      "cell_type": "code",
      "source": [
        "print(\"Max & Min Pixel Values:\", \"Max:\", torch.max(img), \"Min:\", torch.min(img))\n",
        "print(\"Pixel Values for all Channels:\\n\", img[:, :, :])"
      ],
      "metadata": {
        "id": "zKdPRy2HVFrO"
      },
      "execution_count": null,
      "outputs": []
    },
    {
      "cell_type": "markdown",
      "source": [
        "##**Splitting the data into test, train and validation dataset-**\n",
        "Train Data Size = 1280\\\n",
        "Test Data Size = 400\\\n",
        "Validation Data Size = 320"
      ],
      "metadata": {
        "id": "8ay4s-HhwIvo"
      }
    },
    {
      "cell_type": "code",
      "source": [
        "trainset, valset = torch.utils.data.random_split(trainset, [int(0.8 * len(trainset)), int(0.2 * len(trainset))])"
      ],
      "metadata": {
        "id": "-itbdnAsPj0v"
      },
      "execution_count": null,
      "outputs": []
    },
    {
      "cell_type": "markdown",
      "source": [
        "**Shuffling and creating batches of data-**"
      ],
      "metadata": {
        "id": "kq4ynnl-wQOf"
      }
    },
    {
      "cell_type": "code",
      "source": [
        "train_dataloader = torch.utils.data.DataLoader(trainset, batch_size=64, shuffle=True,num_workers=2)\n",
        "val_dataloader = torch.utils.data.DataLoader(valset, batch_size=64, shuffle=False,num_workers=2)\n",
        "test_dataloader = torch.utils.data.DataLoader(testset, batch_size=64, shuffle=False,num_workers=2)"
      ],
      "metadata": {
        "id": "QTnO7yBkQTrD"
      },
      "execution_count": null,
      "outputs": []
    },
    {
      "cell_type": "code",
      "source": [
        "print(\"Training dataset size: \", len(trainset))\n",
        "print(\"Validation dataset size: \", len(valset))\n",
        "print(\"Testing dataset size: \", len(testset))"
      ],
      "metadata": {
        "id": "_Dn4x8GrQZgv"
      },
      "execution_count": null,
      "outputs": []
    },
    {
      "cell_type": "code",
      "source": [
        "print(\"No. of batches in Training dataset : \", len(train_dataloader))\n",
        "print(\"No. of batches in Validation dataset : \", len(val_dataloader))\n",
        "print(\"No. of batches in Testing dataset : \", len(test_dataloader))"
      ],
      "metadata": {
        "id": "weWuRVPbYEP7"
      },
      "execution_count": null,
      "outputs": []
    },
    {
      "cell_type": "markdown",
      "source": [
        "**Visualising the data-**"
      ],
      "metadata": {
        "id": "8sVhH_OWwVKn"
      }
    },
    {
      "cell_type": "code",
      "source": [
        "img, label = trainset[0]\n",
        "img = img.reshape(128,128)\n",
        "plt.imshow(img)"
      ],
      "metadata": {
        "id": "R8MGp5WfV0wy"
      },
      "execution_count": null,
      "outputs": []
    },
    {
      "cell_type": "code",
      "source": [
        "label = label.reshape(128,128)\n",
        "plt.imshow(label)"
      ],
      "metadata": {
        "id": "wbt88XjN-Qco"
      },
      "execution_count": null,
      "outputs": []
    },
    {
      "cell_type": "code",
      "source": [
        "for images, _ in train_dataloader:\n",
        "    print('Shape of an Image (Batch Size, channels, Pixels):', images.shape)\n",
        "    plt.figure(figsize=(16,8))\n",
        "    plt.axis('off')\n",
        "    plt.imshow(make_grid(images, nrow=16).permute((1,2,0))) # we need permute here because matplotlib wants to have the channels as the last dimension\n",
        "    break"
      ],
      "metadata": {
        "id": "9O4Du0drhFTV"
      },
      "execution_count": null,
      "outputs": []
    },
    {
      "cell_type": "code",
      "source": [
        "def TabularFormat(epochs,train_cost,train_acc,eval_cost,eval_acc):\n",
        "  ep = []\n",
        "  for i in range(1,epochs+1):\n",
        "    ep.append(i)\n",
        "  return pd.DataFrame(list(zip(ep,train_cost,train_acc,eval_cost,eval_acc)),columns = ['Epoch Value','Training Loss','Training Dice Score','Validation loss','Validation Dice Score'])"
      ],
      "metadata": {
        "id": "OXq2PXLJYvBx"
      },
      "execution_count": null,
      "outputs": []
    },
    {
      "cell_type": "code",
      "source": [
        "def GraphicalFormat(epochs,train_cost,train_acc,eval_cost,eval_acc):\n",
        "  ep = []\n",
        "  for i in range(1,epochs+1):\n",
        "    ep.append(i)\n",
        "\n",
        "  plt.figure(figsize =(12,7))\n",
        "  plt.plot(ep,eval_cost,label = \"Evaluation Loss\")\n",
        "  plt.plot(ep,train_cost,label = \"Training Loss\")\n",
        "  plt.ylabel(\"Loss\",fontsize = 15)\n",
        "  plt.xlabel(\"No. of Epoch\",fontsize = 15)\n",
        "  plt.legend(fontsize = 12,loc = \"best\")\n",
        "  plt.title(\"Graph between value of Trainig and Validation Loss V/s Epochs\",fontsize = 15)\n",
        "  plt.show()\n",
        "  print(\"\\n\\n__________________________________________________\\n\\n\")\n",
        "  plt.figure(figsize =(12,7))\n",
        "  plt.plot(ep,train_acc,label = \"Training Dice Score\")\n",
        "  plt.plot(ep,eval_acc,label = \"Val Dice Score\")\n",
        "  plt.ylabel(\"Dice Score\",fontsize = 15)\n",
        "  plt.xlabel(\"No. of Epoch\",fontsize = 15)\n",
        "  plt.legend(fontsize = 12,loc = \"best\")\n",
        "  plt.title(\"Graph between Trainig and Validation Dice Score V/s Epochs\",fontsize = 15)\n",
        "  plt.show()"
      ],
      "metadata": {
        "id": "YmQ70cNfZ1Bw"
      },
      "execution_count": null,
      "outputs": []
    },
    {
      "cell_type": "markdown",
      "metadata": {
        "id": "CsdkLmbdS02y"
      },
      "source": [
        "![0_abDsxLhaamho0Naq.png](data:image/png;base64,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)"
      ]
    },
    {
      "cell_type": "markdown",
      "metadata": {
        "id": "xMhs-NOXTIe4"
      },
      "source": [
        "##Convolutional Block\n",
        "The entire UNET architecture uses two 3×3 convolutional layers, each followed by a ReLU activation.\\\n",
        "Here we create a simple class named conv_block:-\n"
      ]
    },
    {
      "cell_type": "code",
      "metadata": {
        "id": "oh7MTWIQS66w"
      },
      "source": [
        "class conv_block(nn.Module):\n",
        "  def __init__(self, in_c, out_c):\n",
        "    super().__init__()\n",
        "    self.conv1 = nn.Conv2d(in_c, out_c, kernel_size=3, padding=1)\n",
        "    self.conv2 = nn.Conv2d(out_c, out_c, kernel_size=3, padding=1)\n",
        "    self.relu = nn.ReLU()\n",
        "  def forward(self, inputs):\n",
        "    x = self.conv1(inputs)\n",
        "    x = self.relu(x)\n",
        "    x = self.conv2(x)\n",
        "    x = self.relu(x)\n",
        "    return x"
      ],
      "execution_count": null,
      "outputs": []
    },
    {
      "cell_type": "markdown",
      "metadata": {
        "id": "86Ea4c6xT24g"
      },
      "source": [
        "##Encoder Block\n",
        "The contracting path follows the typical architecture of a convolutional network. It consists of the repeated application of two 3×3 convolutions (unpadded convolutions), each followed by a rectified linear unit (ReLU) and a 2×2 max pooling operation with stride 2 for downsampling. At each downsampling step we double the number of feature channels.\\\n",
        "\\\n",
        "In the encoder_block, we have used padding to make sure that the shape (height and width) of the output feature maps remain the same as the input feature maps.\\\n",
        "The encoder_block consists of a conv_block followed by a 2×2 max pooling. The number of filters is doubled and the height and width are reduced half after every block.\\\n",
        "The encoder_block return two output:\n",
        "1. x: It is the output of the conv_block and acts as the input of the pooling layer and as the skip connection feature map for the decoder block.\n",
        "2. p: It is the output of the pooling layer.\n"
      ]
    },
    {
      "cell_type": "code",
      "metadata": {
        "id": "X8llq2HpS-Xf"
      },
      "source": [
        "class encoder_block(nn.Module):\n",
        "  def __init__(self, in_c, out_c):\n",
        "    super().__init__()\n",
        "    self.conv = conv_block(in_c, out_c)\n",
        "    self.pool = nn.MaxPool2d((2, 2))\n",
        "  def forward(self, inputs):\n",
        "    x = self.conv(inputs)\n",
        "    p = self.pool(x)\n",
        "    return x, p"
      ],
      "execution_count": null,
      "outputs": []
    },
    {
      "cell_type": "markdown",
      "metadata": {
        "id": "9DnzpezpUs9r"
      },
      "source": [
        "##Decoder Block\n",
        "From the original paper\n",
        "Every step in the expansive path consists of an upsampling of the feature map followed by a 2×2 convolution (“up-convolution”) that halves the number of feature channels, a concatenation with the correspondingly cropped feature map from the contracting path, and two 3×3 convolutions, each followed by a ReLU"
      ]
    },
    {
      "cell_type": "code",
      "metadata": {
        "id": "-lJ0y8-lU25m"
      },
      "source": [
        "class decoder_block(nn.Module):\n",
        "  def __init__(self, in_c, out_c):\n",
        "    super().__init__()\n",
        "    self.up = nn.ConvTranspose2d(in_c, out_c, kernel_size=2, stride=2, padding=0)\n",
        "    self.conv = conv_block(out_c+out_c, out_c)\n",
        "  def forward(self, inputs, skip):\n",
        "    x = self.up(inputs)\n",
        "    x = torch.cat([x, skip], axis=1)\n",
        "    x = self.conv(x)\n",
        "    return x"
      ],
      "execution_count": null,
      "outputs": []
    },
    {
      "cell_type": "markdown",
      "metadata": {
        "id": "PW1EKuBVFjH9"
      },
      "source": [
        "#**UNET Architecture**\n",
        "\n",
        "\n",
        "\n"
      ]
    },
    {
      "cell_type": "code",
      "metadata": {
        "id": "DgJatKNGFjH9"
      },
      "source": [
        "class UNet(nn.Module):\n",
        "  def __init__(self):\n",
        "    super().__init__()\n",
        "    \"\"\" Encoder \"\"\"\n",
        "    self.e1 = encoder_block(1,32)#(1, 64)\n",
        "    self.e2 = encoder_block(32,64)#(64, 128)\n",
        "    self.e3 = encoder_block(64,128)#(128, 256)\n",
        "    self.e4 = encoder_block(128,256)#(256, 512)\n",
        "    \"\"\" Bottleneck \"\"\"\n",
        "    self.b = conv_block(256,512)#(512, 1024)\n",
        "    \"\"\" Decoder \"\"\"\n",
        "    self.d1 = decoder_block(512,256)#(1024, 512)\n",
        "    self.d2 = decoder_block(256,128)#(512, 256)\n",
        "    self.d3 = decoder_block(128,64)#(256, 128)\n",
        "    self.d4 = decoder_block(64,32)#(128, 64)\n",
        "    self.relu = nn.ReLU()\n",
        "    \"\"\" Classifier \"\"\"\n",
        "    self.outputs = nn.Conv2d(32, 1, kernel_size=1, padding=0)#(64, 1, kernel_size=1, padding=0)\n",
        "  def forward(self, inputs):\n",
        "    \"\"\" Encoder \"\"\"\n",
        "    s1, p1 = self.e1(inputs)\n",
        "    s2, p2 = self.e2(p1)\n",
        "    s3, p3 = self.e3(p2)\n",
        "    s4, p4 = self.e4(p3)\n",
        "    \"\"\" Bottleneck \"\"\"\n",
        "    b = self.b(p4)\n",
        "    \"\"\" Decoder \"\"\"\n",
        "    d1 = self.d1(b, s4)\n",
        "    d2 = self.d2(d1, s3)\n",
        "    d3 = self.d3(d2, s2)\n",
        "    d4 = self.d4(d3, s1)\n",
        "    \"\"\" Classifier \"\"\"\n",
        "    outputs = self.outputs(d4)\n",
        "    #outputs = self.relu(outputs)\n",
        "    return outputs\n",
        "\n",
        "\n",
        "\n",
        "def Dice_score(pred, target):\n",
        "    smooth = 1.\n",
        "    num = pred.size(0)\n",
        "    m1 = pred.view(num, -1).float()  # Flatten\n",
        "    m2 = target.view(num, -1).float()  # Flatten\n",
        "    intersection = (m1 * m2).sum().float()\n",
        "\n",
        "    return (2. * intersection + smooth) / (m1.sum() + m2.sum() + smooth)\n",
        "\n",
        "# def init_model(net):\n",
        "#     if isinstance(net, nn.Conv2d) or isinstance(net, nn.ConvTranspose2d):\n",
        "#         nn.init.kaiming_normal_(net.weight.data, 0.25)\n",
        "#         nn.init.constant_(net.bias.data, 0)\n",
        "\n",
        "\n",
        "\n",
        "#Initialising the model2\n",
        "model2 = UNet()\n",
        "print(\"The overall model2 is - \\n\")\n",
        "print(model2)\n",
        "dash = \"________________________________________________________________________\\n\\n\"\n",
        "print(dash)\n",
        "# model.apply(init_model)\n",
        "\n",
        "\n",
        "\n",
        "\n",
        "CE = nn.CrossEntropyLoss()\n",
        "MSE = nn.MSELoss(reduction='mean')\n",
        "optimizer = torch.optim.Adam(model2.parameters(), lr=0.001, weight_decay=0.001)\n",
        "\n",
        "# Print model2's state_dict\n",
        "print(\"Model2's state_dict:\")\n",
        "for param_tensor in model2.state_dict():\n",
        "    print(param_tensor, \"\\t\", model2.state_dict()[param_tensor].size())\n",
        "\n",
        "# Print optimizer's state_dict\n",
        "print(\"Optimizer's state_dict:\")\n",
        "for var_name in optimizer.state_dict():\n",
        "    print(var_name, \"\\t\", optimizer.state_dict()[var_name])\n",
        "\n",
        "# For updating learning rate\n",
        "def update_lr(optimizer, lr):    \n",
        "    for param_group in optimizer.param_groups:\n",
        "        param_group['lr'] = lr\n",
        "\n",
        "if (torch.cuda.is_available()):\n",
        "    model2.cuda()\n",
        "\n",
        "def count_parameters(model2):\n",
        "    return sum(p.numel() for p in model2.parameters() if p.requires_grad)\n",
        "\n",
        "print(f'The model2 has {count_parameters(model2):,} trainable parameters')"
      ],
      "execution_count": null,
      "outputs": []
    },
    {
      "cell_type": "markdown",
      "source": [
        "## **Dice Score**"
      ],
      "metadata": {
        "id": "vyhtziiOwgUd"
      }
    },
    {
      "cell_type": "markdown",
      "source": [
        "![image.png](data:image/png;base64,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)"
      ],
      "metadata": {
        "id": "KE0nKVlNwozE"
      }
    },
    {
      "cell_type": "markdown",
      "source": [
        "![image.png](data:image/png;base64,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)\n",
        "\n",
        "https://towardsdatascience.com/metrics-to-evaluate-your-semantic-segmentation-model-6bcb99639aa2"
      ],
      "metadata": {
        "id": "5udbnoGBvXkz"
      }
    },
    {
      "cell_type": "markdown",
      "source": [
        "## **Training**"
      ],
      "metadata": {
        "id": "Rk1vaKqBvPzi"
      }
    },
    {
      "cell_type": "code",
      "source": [
        "no_epochs = 100\n",
        "train_loss = list()\n",
        "val_loss = list()\n",
        "train_Dice= list()\n",
        "val_Dice = list()\n",
        "best_val_loss = 1\n",
        "total_train_Dice = 0\n",
        "total_val_Dice = 0\n",
        "total_val = 0\n",
        "\n",
        "for epoch in range(no_epochs):\n",
        "    total_train_loss = 0\n",
        "    total_val_loss = 0\n",
        "    total_train = 0\n",
        "    Dice = 0\n",
        "    model2.train()\n",
        "    total_p = 0\n",
        "    # training\n",
        "    for itr, (image, label) in enumerate(train_dataloader):\n",
        "\n",
        "        if (torch.cuda.is_available()):\n",
        "            image = image.cuda()\n",
        "            label = label.cuda()\n",
        "        optimizer.zero_grad()\n",
        "        \n",
        "        pred = model2(image.float())\n",
        "        #print(image.min())\n",
        "        #print(pred.min())\n",
        "        #print(label.min())\n",
        "\n",
        "        loss = MSE(pred, label.float())\n",
        "        #print(loss)\n",
        "        total_train_loss += loss.item()\n",
        "        #ADDED HERE\n",
        "        \n",
        "        Dice = Dice_score(pred, label)\n",
        "        total_train_Dice += Dice.item()     \n",
        "\n",
        "        loss.backward()\n",
        "        optimizer.step()\n",
        "        # print(itr+1, \"Train Batch complete\")\n",
        "    total_train_Dice = total_train_Dice / (itr+1)\n",
        "    train_Dice.append(total_train_Dice)\n",
        "    total_train_loss = total_train_loss / (itr + 1)\n",
        "    train_loss.append(total_train_loss)\n",
        "    \n",
        "\n",
        "    # validation\n",
        "    model2.eval()\n",
        "    total_val = 0\n",
        "    for itr, (image, label) in enumerate(val_dataloader):\n",
        "\n",
        "        if (torch.cuda.is_available()):\n",
        "            image = image.cuda()\n",
        "            label = label.cuda()\n",
        "\n",
        "        pred = model2(image.float())\n",
        "\n",
        "        loss = MSE(pred, label.float())\n",
        "        total_val_loss += loss.item()\n",
        "\n",
        "        Dice = Dice_score(pred, label)\n",
        "        total_val_Dice += Dice.item()     \n",
        "\n",
        "\n",
        "    total_val_Dice = total_val_Dice / (itr+1)\n",
        "    val_Dice.append(total_val_Dice)\n",
        "    total_val_loss = total_val_loss / (itr + 1)\n",
        "    val_loss.append(total_val_loss)\n",
        "\n",
        "    print('\\nEpoch: {}/{}, Train Loss: {:.8f},Train Dice: {:.8f}, Val Loss: {:.8f}, Val DIce: {:.8f}'.format(epoch + 1, no_epochs, total_train_loss, total_train_Dice, total_val_loss, total_val_Dice))\n",
        "\n",
        "    if total_val_loss < best_val_loss:\n",
        "        best_val_loss = total_val_loss\n",
        "        print(\"Saving the model2 state dictionary for Epoch: {} with Validation loss: {:.8f}\".format(epoch + 1, total_val_loss))\n",
        "        torch.save(model2.state_dict(), \"model2.dth\")"
      ],
      "metadata": {
        "id": "UGIJkUWwFjH-"
      },
      "execution_count": null,
      "outputs": []
    },
    {
      "cell_type": "code",
      "source": [
        "import pandas as pd\n",
        "pd = TabularFormat(no_epochs,train_loss,train_Dice,val_loss,val_Dice)\n",
        "pd"
      ],
      "metadata": {
        "id": "RMTURUZdFjH-"
      },
      "execution_count": null,
      "outputs": []
    },
    {
      "cell_type": "code",
      "source": [
        "GraphicalFormat(no_epochs,train_loss,train_Dice,val_loss,val_Dice)"
      ],
      "metadata": {
        "id": "lGnmPycLFjH-"
      },
      "execution_count": null,
      "outputs": []
    },
    {
      "cell_type": "markdown",
      "source": [
        "# **Evaluating the model2-**"
      ],
      "metadata": {
        "id": "LOmkGP7EFjH-"
      }
    },
    {
      "cell_type": "code",
      "source": [
        "total_val_loss = 0\n",
        "# validation\n",
        "\n",
        "model2.load_state_dict(torch.load('model2.dth'))\n",
        "model2.eval()\n",
        "total_val = 0\n",
        "Dice = 0\n",
        "for itr, (image, label) in enumerate(test_dataloader):\n",
        "\n",
        "    if (torch.cuda.is_available()):\n",
        "        image = image.cuda()\n",
        "        label = label.cuda()\n",
        "\n",
        "    pred = model2(image.float())\n",
        "    loss = MSE(pred, label)\n",
        "    total_val_loss += loss.item()\n",
        "\n",
        "    Dice = Dice_score(pred, label)\n",
        "    total_val_Dice += Dice.item()\n",
        "\n",
        "\n",
        "total_val_Dice = total_val_Dice / (itr+1)\n",
        "val_Dice.append(total_val_Dice)\n",
        "total_val_loss = total_val_loss / (itr + 1)\n",
        "val_loss.append(total_val_loss)\n",
        "print('\\n Val Loss: {:.8f}, Val Dice: {:.8f}'.format( total_val_loss, total_val_Dice))"
      ],
      "metadata": {
        "id": "BN78Ik-2FjH-"
      },
      "execution_count": null,
      "outputs": []
    },
    {
      "cell_type": "markdown",
      "source": [
        "## Example 1"
      ],
      "metadata": {
        "id": "GNzeWxA4FjH_"
      }
    },
    {
      "cell_type": "code",
      "source": [
        "img, seg = testset[11]"
      ],
      "metadata": {
        "id": "0izCo3bAFjH_"
      },
      "execution_count": null,
      "outputs": []
    },
    {
      "cell_type": "code",
      "source": [
        "imge = img.reshape(128,128)\n",
        "plt.imshow(imge)"
      ],
      "metadata": {
        "id": "vGUpy6g_FjH_"
      },
      "execution_count": null,
      "outputs": []
    },
    {
      "cell_type": "code",
      "source": [
        "segm = seg.reshape(128,128)\n",
        "plt.imshow(segm)"
      ],
      "metadata": {
        "id": "7yqQbcgOFjH_"
      },
      "execution_count": null,
      "outputs": []
    },
    {
      "cell_type": "code",
      "source": [
        "model2.load_state_dict(torch.load('model2.dth'))\n",
        "model2.eval()\n",
        "img = img.view(1,1,128,128)\n",
        "img = img.cuda()\n",
        "pred = model2(img.float())"
      ],
      "metadata": {
        "id": "tc6xKNsbFjH_"
      },
      "execution_count": null,
      "outputs": []
    },
    {
      "cell_type": "code",
      "source": [
        "pred = pred.cpu()\n",
        "pred =pred.detach().numpy()\n",
        "predt = pred.reshape(128,128)\n",
        "plt.imshow(predt)"
      ],
      "metadata": {
        "id": "oX_K4oSEFjH_"
      },
      "execution_count": null,
      "outputs": []
    },
    {
      "cell_type": "markdown",
      "source": [
        "## Example 1"
      ],
      "metadata": {
        "id": "4jo84AEsFjH_"
      }
    },
    {
      "cell_type": "code",
      "source": [
        "img, seg = testset[50]"
      ],
      "metadata": {
        "id": "jK6RirUSFjH_"
      },
      "execution_count": null,
      "outputs": []
    },
    {
      "cell_type": "code",
      "source": [
        "imge = img.reshape(128,128)\n",
        "plt.imshow(imge)"
      ],
      "metadata": {
        "id": "JUv_foQJFjIA"
      },
      "execution_count": null,
      "outputs": []
    },
    {
      "cell_type": "code",
      "source": [
        "segm = seg.reshape(128,128)\n",
        "plt.imshow(segm)"
      ],
      "metadata": {
        "id": "lRJdfSGAFjIA"
      },
      "execution_count": null,
      "outputs": []
    },
    {
      "cell_type": "code",
      "source": [
        "model2.load_state_dict(torch.load('model2.dth'))\n",
        "model2.eval()\n",
        "img = img.view(1,1,128,128)\n",
        "img = img.cuda()\n",
        "pred = model2(img.float())"
      ],
      "metadata": {
        "id": "7l3BLjmIFjIA"
      },
      "execution_count": null,
      "outputs": []
    },
    {
      "cell_type": "code",
      "source": [
        "pred = pred.cpu()\n",
        "pred =pred.detach().numpy()\n",
        "predt = pred.reshape(128,128)\n",
        "plt.imshow(predt)"
      ],
      "metadata": {
        "id": "5IU00clBFjIA"
      },
      "execution_count": null,
      "outputs": []
    },
    {
      "cell_type": "code",
      "source": [],
      "metadata": {
        "id": "sAM4TJe8H3w0"
      },
      "execution_count": null,
      "outputs": []
    },
    {
      "cell_type": "markdown",
      "metadata": {
        "id": "qxaV-r2nIHGV"
      },
      "source": [
        "##UNET Architecture\n",
        "Decrease No. of Features:\n"
      ]
    },
    {
      "cell_type": "code",
      "metadata": {
        "id": "IB2ebDpzIHGX"
      },
      "source": [
        "class UNet(nn.Module):\n",
        "  def __init__(self):\n",
        "    super().__init__()\n",
        "    \"\"\" Encoder \"\"\"\n",
        "    self.e1 = encoder_block(1,16)#(1, 64)\n",
        "    self.e2 = encoder_block(16,32)#(64, 128)\n",
        "    self.e3 = encoder_block(32,64)#(128, 256)\n",
        "    self.e4 = encoder_block(64,128)#(256, 512)\n",
        "    \"\"\" Bottleneck \"\"\"\n",
        "    self.b = conv_block(128,256)#(512, 1024)\n",
        "    \"\"\" Decoder \"\"\"\n",
        "    self.d1 = decoder_block(256,128)#(1024, 512)\n",
        "    self.d2 = decoder_block(128,64)#(512, 256)\n",
        "    self.d3 = decoder_block(64,32)#(256, 128)\n",
        "    self.d4 = decoder_block(32,16)#(128, 64)\n",
        "    self.relu = nn.ReLU()\n",
        "    \"\"\" Classifier \"\"\"\n",
        "    self.outputs = nn.Conv2d(16, 1, kernel_size=1, padding=0)#(64, 1, kernel_size=1, padding=0)\n",
        "  def forward(self, inputs):\n",
        "    \"\"\" Encoder \"\"\"\n",
        "    s1, p1 = self.e1(inputs)\n",
        "    s2, p2 = self.e2(p1)\n",
        "    s3, p3 = self.e3(p2)\n",
        "    s4, p4 = self.e4(p3)\n",
        "    \"\"\" Bottleneck \"\"\"\n",
        "    b = self.b(p4)\n",
        "    \"\"\" Decoder \"\"\"\n",
        "    d1 = self.d1(b, s4)\n",
        "    d2 = self.d2(d1, s3)\n",
        "    d3 = self.d3(d2, s2)\n",
        "    d4 = self.d4(d3, s1)\n",
        "    \"\"\" Classifier \"\"\"\n",
        "    outputs = self.outputs(d4)\n",
        "    #outputs = self.relu(outputs)\n",
        "    return outputs\n",
        "\n",
        "\n",
        "\n",
        "\n",
        "#Initialising the model\n",
        "model = UNet()\n",
        "print(\"The overall model is - \\n\")\n",
        "print(model)\n",
        "dash = \"________________________________________________________________________\\n\\n\"\n",
        "print(dash)\n",
        "\n",
        "\n",
        "#criterion = torch.nn.CrossEntropyLoss()\n",
        "#optimizer = torch.optim.SGD(model.parameters(), lr=0.01,momentum=0.9, weight_decay=0.001)\n",
        "\n",
        "def Dice_score(pred, target):\n",
        "    smooth = 1.\n",
        "    num = pred.size(0)\n",
        "    m1 = pred.view(num, -1).float()  # Flatten\n",
        "    m2 = target.view(num, -1).float()  # Flatten\n",
        "    intersection = (m1 * m2).sum().float()\n",
        "\n",
        "    return (2. * intersection + smooth) / (m1.sum() + m2.sum() + smooth)\n",
        "\n",
        "# def init_model(net):\n",
        "#     if isinstance(net, nn.Conv2d) or isinstance(net, nn.ConvTranspose2d):\n",
        "#         nn.init.kaiming_normal_(net.weight.data, 0.25)\n",
        "#         nn.init.constant_(net.bias.data, 0)\n",
        "      \n",
        "# model.apply(init_model)\n",
        "criterion = nn.CrossEntropyLoss()\n",
        "MSE = nn.MSELoss(reduction='mean')\n",
        "optimizer = torch.optim.Adam(model.parameters(), lr=0.001, weight_decay=0.001)\n",
        "\n",
        "# Print model's state_dict\n",
        "print(\"Model's state_dict:\")\n",
        "for param_tensor in model.state_dict():\n",
        "    print(param_tensor, \"\\t\", model.state_dict()[param_tensor].size())\n",
        "\n",
        "# Print optimizer's state_dict\n",
        "print(\"Optimizer's state_dict:\")\n",
        "for var_name in optimizer.state_dict():\n",
        "    print(var_name, \"\\t\", optimizer.state_dict()[var_name])\n",
        "\n",
        "# For updating learning rate\n",
        "def update_lr(optimizer, lr):    \n",
        "    for param_group in optimizer.param_groups:\n",
        "        param_group['lr'] = lr\n",
        "\n",
        "if (torch.cuda.is_available()):\n",
        "    model.cuda()\n",
        "\n",
        "def count_parameters(model):\n",
        "    return sum(p.numel() for p in model.parameters() if p.requires_grad)\n",
        "\n",
        "print(f'The model has {count_parameters(model):,} trainable parameters')"
      ],
      "execution_count": null,
      "outputs": []
    },
    {
      "cell_type": "code",
      "source": [
        "no_epochs = 100\n",
        "train_loss = list()\n",
        "val_loss = list()\n",
        "train_Dice= list()\n",
        "val_Dice = list()\n",
        "best_val_loss = 1\n",
        "total_train_Dice = 0\n",
        "total_val_Dice = 0\n",
        "total_val = 0\n",
        "\n",
        "for epoch in range(no_epochs):\n",
        "    total_train_loss = 0\n",
        "    total_val_loss = 0\n",
        "    total_train = 0\n",
        "    Dice = 0\n",
        "    model.train()\n",
        "    total_p = 0\n",
        "    # training\n",
        "    for itr, (image, label) in enumerate(train_dataloader):\n",
        "\n",
        "        if (torch.cuda.is_available()):\n",
        "            image = image.cuda()\n",
        "            label = label.cuda()\n",
        "        optimizer.zero_grad()\n",
        "        \n",
        "        pred = model(image.float())\n",
        "        #print(image.min())\n",
        "        #print(pred.min())\n",
        "        #print(label.min())\n",
        "\n",
        "        loss = MSE(pred, label.float())\n",
        "        #print(loss)\n",
        "        total_train_loss += loss.item()\n",
        "        #ADDED HERE\n",
        "        \n",
        "        Dice = Dice_score(pred, label)\n",
        "        total_train_Dice += Dice.item()     \n",
        "\n",
        "        loss.backward()\n",
        "        optimizer.step()\n",
        "        # print(itr+1, \"Train Batch complete\")\n",
        "    total_train_Dice = total_train_Dice / (itr+1)\n",
        "    train_Dice.append(total_train_Dice)\n",
        "    total_train_loss = total_train_loss / (itr + 1)\n",
        "    train_loss.append(total_train_loss)\n",
        "    \n",
        "\n",
        "    # validation\n",
        "    model.eval()\n",
        "    total_val = 0\n",
        "    for itr, (image, label) in enumerate(val_dataloader):\n",
        "\n",
        "        if (torch.cuda.is_available()):\n",
        "            image = image.cuda()\n",
        "            label = label.cuda()\n",
        "\n",
        "        pred = model(image.float())\n",
        "\n",
        "        loss = MSE(pred, label.float())\n",
        "        total_val_loss += loss.item()\n",
        "\n",
        "        Dice = Dice_score(pred, label)\n",
        "        total_val_Dice += Dice.item()     \n",
        "\n",
        "\n",
        "    total_val_Dice = total_val_Dice / (itr+1)\n",
        "    val_Dice.append(total_val_Dice)\n",
        "    total_val_loss = total_val_loss / (itr + 1)\n",
        "    val_loss.append(total_val_loss)\n",
        "\n",
        "    print('\\nEpoch: {}/{}, Train Loss: {:.8f},Train Dice: {:.8f}, Val Loss: {:.8f}, Val DIce: {:.8f}'.format(epoch + 1, no_epochs, total_train_loss, total_train_Dice, total_val_loss, total_val_Dice))\n",
        "\n",
        "    if total_val_loss < best_val_loss:\n",
        "        best_val_loss = total_val_loss\n",
        "        print(\"Saving the model state dictionary for Epoch: {} with Validation loss: {:.8f}\".format(epoch + 1, total_val_loss))\n",
        "        torch.save(model.state_dict(), \"model.dth\")"
      ],
      "metadata": {
        "id": "5c0ezrFOIHGX"
      },
      "execution_count": null,
      "outputs": []
    },
    {
      "cell_type": "code",
      "source": [
        "import pandas as pd\n",
        "pd = TabularFormat(no_epochs,train_loss,train_Dice,val_loss,val_Dice)\n",
        "pd"
      ],
      "metadata": {
        "id": "u4OAzIfLIHGY"
      },
      "execution_count": null,
      "outputs": []
    },
    {
      "cell_type": "code",
      "source": [
        "GraphicalFormat(no_epochs,train_loss,train_Dice,val_loss,val_Dice)"
      ],
      "metadata": {
        "id": "NrdF0jchIHGY"
      },
      "execution_count": null,
      "outputs": []
    },
    {
      "cell_type": "markdown",
      "source": [
        "# **Evaluating the model-**"
      ],
      "metadata": {
        "id": "yBK9PnpLIHGZ"
      }
    },
    {
      "cell_type": "code",
      "source": [
        "total_val_loss = 0\n",
        "# validation\n",
        "\n",
        "model.load_state_dict(torch.load('model.dth'))\n",
        "model.eval()\n",
        "total_val = 0\n",
        "Dice = 0\n",
        "for itr, (image, label) in enumerate(test_dataloader):\n",
        "\n",
        "    if (torch.cuda.is_available()):\n",
        "        image = image.cuda()\n",
        "        label = label.cuda()\n",
        "\n",
        "    pred = model(image.float())\n",
        "    loss = MSE(pred, label)\n",
        "    total_val_loss += loss.item()\n",
        "\n",
        "    Dice = Dice_score(pred, label)\n",
        "    total_val_Dice += Dice.item()\n",
        "\n",
        "\n",
        "total_val_Dice = total_val_Dice / (itr+1)\n",
        "val_Dice.append(total_val_Dice)\n",
        "total_val_loss = total_val_loss / (itr + 1)\n",
        "val_loss.append(total_val_loss)\n",
        "print('\\n Val Loss: {:.8f}, Val Dice: {:.8f}'.format( total_val_loss, total_val_Dice))"
      ],
      "metadata": {
        "id": "iVFCm2XSIHGZ"
      },
      "execution_count": null,
      "outputs": []
    },
    {
      "cell_type": "markdown",
      "source": [
        "## Example 1"
      ],
      "metadata": {
        "id": "dg6iLpgoIHGZ"
      }
    },
    {
      "cell_type": "code",
      "source": [
        "img, seg = testset[11]"
      ],
      "metadata": {
        "id": "GLTHF_cnIHGZ"
      },
      "execution_count": null,
      "outputs": []
    },
    {
      "cell_type": "code",
      "source": [
        "imge = img.reshape(128,128)\n",
        "plt.imshow(imge)"
      ],
      "metadata": {
        "id": "g0lUGkksIHGZ"
      },
      "execution_count": null,
      "outputs": []
    },
    {
      "cell_type": "code",
      "source": [
        "segm = seg.reshape(128,128)\n",
        "plt.imshow(segm)"
      ],
      "metadata": {
        "id": "jFIdxdbnIHGZ"
      },
      "execution_count": null,
      "outputs": []
    },
    {
      "cell_type": "code",
      "source": [
        "model.load_state_dict(torch.load('model.dth'))\n",
        "model.eval()\n",
        "img = img.view(1,1,128,128)\n",
        "img = img.cuda()\n",
        "pred = model(img.float())"
      ],
      "metadata": {
        "id": "z9Ay7j2gIHGa"
      },
      "execution_count": null,
      "outputs": []
    },
    {
      "cell_type": "code",
      "source": [
        "pred = pred.cpu()\n",
        "pred =pred.detach().numpy()\n",
        "predt = pred.reshape(128,128)\n",
        "plt.imshow(predt)"
      ],
      "metadata": {
        "id": "uQYqwmEjIHGa"
      },
      "execution_count": null,
      "outputs": []
    },
    {
      "cell_type": "code",
      "source": [],
      "metadata": {
        "id": "u08K-IadIHGa"
      },
      "execution_count": null,
      "outputs": []
    },
    {
      "cell_type": "markdown",
      "source": [
        "## Example 2"
      ],
      "metadata": {
        "id": "g0xcRFyzIHGa"
      }
    },
    {
      "cell_type": "code",
      "source": [
        "img, seg = testset[51]"
      ],
      "metadata": {
        "id": "ZLXqv35wIHGa"
      },
      "execution_count": null,
      "outputs": []
    },
    {
      "cell_type": "code",
      "source": [
        "imge = img.reshape(128,128)\n",
        "plt.imshow(imge)"
      ],
      "metadata": {
        "id": "IYjinwN1IHGa"
      },
      "execution_count": null,
      "outputs": []
    },
    {
      "cell_type": "code",
      "source": [
        "segm = seg.reshape(128,128)\n",
        "plt.imshow(segm)"
      ],
      "metadata": {
        "id": "zF5rjus1IHGa"
      },
      "execution_count": null,
      "outputs": []
    },
    {
      "cell_type": "code",
      "source": [
        "model.load_state_dict(torch.load('model.dth'))\n",
        "model.eval()\n",
        "img = img.view(1,1,128,128)\n",
        "img = img.cuda()\n",
        "pred = model(img.float())"
      ],
      "metadata": {
        "id": "_KpTkfTdIHGb"
      },
      "execution_count": null,
      "outputs": []
    },
    {
      "cell_type": "code",
      "source": [
        "pred = pred.cpu()\n",
        "pred =pred.detach().numpy()\n",
        "predt = pred.reshape(128,128)\n",
        "plt.imshow(predt)"
      ],
      "metadata": {
        "id": "lCrwVKaCIHGb"
      },
      "execution_count": null,
      "outputs": []
    },
    {
      "cell_type": "code",
      "source": [],
      "metadata": {
        "id": "wwxGJmR7J1KV"
      },
      "execution_count": null,
      "outputs": []
    },
    {
      "cell_type": "markdown",
      "metadata": {
        "id": "BGViLKOJKlqx"
      },
      "source": [
        "##UNET Architecture\n",
        "Again decrease the no. of features\n",
        "\n",
        "\n"
      ]
    },
    {
      "cell_type": "code",
      "metadata": {
        "id": "qXTacVmIKlqx"
      },
      "source": [
        "class UNet(nn.Module):\n",
        "  def __init__(self):\n",
        "    super().__init__()\n",
        "    \"\"\" Encoder \"\"\"\n",
        "    self.e1 = encoder_block(1,8)#(1, 64)\n",
        "    self.e2 = encoder_block(8,16)#(64, 128)\n",
        "    self.e3 = encoder_block(16,32)#(128, 256)\n",
        "    self.e4 = encoder_block(32,64)#(256, 512)\n",
        "    \"\"\" Bottleneck \"\"\"\n",
        "    self.b = conv_block(64,128)#(512, 1024)\n",
        "    \"\"\" Decoder \"\"\"\n",
        "    self.d1 = decoder_block(128,64)#(1024, 512)\n",
        "    self.d2 = decoder_block(64,32)#(512, 256)\n",
        "    self.d3 = decoder_block(32,16)#(256, 128)\n",
        "    self.d4 = decoder_block(16,8)#(128, 64)\n",
        "    self.relu = nn.ReLU()\n",
        "    \"\"\" Classifier \"\"\"\n",
        "    self.outputs = nn.Conv2d(8, 1, kernel_size=1, padding=0)#(64, 1, kernel_size=1, padding=0)\n",
        "  def forward(self, inputs):\n",
        "    \"\"\" Encoder \"\"\"\n",
        "    s1, p1 = self.e1(inputs)\n",
        "    s2, p2 = self.e2(p1)\n",
        "    s3, p3 = self.e3(p2)\n",
        "    s4, p4 = self.e4(p3)\n",
        "    \"\"\" Bottleneck \"\"\"\n",
        "    b = self.b(p4)\n",
        "    \"\"\" Decoder \"\"\"\n",
        "    d1 = self.d1(b, s4)\n",
        "    d2 = self.d2(d1, s3)\n",
        "    d3 = self.d3(d2, s2)\n",
        "    d4 = self.d4(d3, s1)\n",
        "    \"\"\" Classifier \"\"\"\n",
        "    outputs = self.outputs(d4)\n",
        "    #outputs = self.relu(outputs)\n",
        "    return outputs\n",
        "\n",
        "\n",
        "\n",
        "\n",
        "#Initialising the model\n",
        "model = UNet()\n",
        "print(\"The overall model is - \\n\")\n",
        "print(model)\n",
        "dash = \"________________________________________________________________________\\n\\n\"\n",
        "print(dash)\n",
        "\n",
        "\n",
        "#criterion = torch.nn.CrossEntropyLoss()\n",
        "#optimizer = torch.optim.SGD(model.parameters(), lr=0.01,momentum=0.9, weight_decay=0.001)\n",
        "\n",
        "def Dice_score(pred, target):\n",
        "    smooth = 1.\n",
        "    num = pred.size(0)\n",
        "    m1 = pred.view(num, -1).float()  # Flatten\n",
        "    m2 = target.view(num, -1).float()  # Flatten\n",
        "    intersection = (m1 * m2).sum().float()\n",
        "\n",
        "    return (2. * intersection + smooth) / (m1.sum() + m2.sum() + smooth)\n",
        "\n",
        "# def init_model(net):\n",
        "#     if isinstance(net, nn.Conv2d) or isinstance(net, nn.ConvTranspose2d):\n",
        "#         nn.init.kaiming_normal_(net.weight.data, 0.25)\n",
        "#         nn.init.constant_(net.bias.data, 0)\n",
        "      \n",
        "# model.apply(init_model)\n",
        "criterion = nn.CrossEntropyLoss()\n",
        "MSE = nn.MSELoss(reduction='mean')\n",
        "optimizer = torch.optim.Adam(model.parameters(), lr=0.001, weight_decay=0.001)\n",
        "\n",
        "# Print model's state_dict\n",
        "print(\"Model's state_dict:\")\n",
        "for param_tensor in model.state_dict():\n",
        "    print(param_tensor, \"\\t\", model.state_dict()[param_tensor].size())\n",
        "\n",
        "# Print optimizer's state_dict\n",
        "print(\"Optimizer's state_dict:\")\n",
        "for var_name in optimizer.state_dict():\n",
        "    print(var_name, \"\\t\", optimizer.state_dict()[var_name])\n",
        "\n",
        "# For updating learning rate\n",
        "def update_lr(optimizer, lr):    \n",
        "    for param_group in optimizer.param_groups:\n",
        "        param_group['lr'] = lr\n",
        "\n",
        "if (torch.cuda.is_available()):\n",
        "    model.cuda()\n",
        "\n",
        "def count_parameters(model):\n",
        "    return sum(p.numel() for p in model.parameters() if p.requires_grad)\n",
        "\n",
        "print(f'The model has {count_parameters(model):,} trainable parameters')"
      ],
      "execution_count": null,
      "outputs": []
    },
    {
      "cell_type": "code",
      "source": [
        "no_epochs = 100\n",
        "train_loss = list()\n",
        "val_loss = list()\n",
        "train_Dice= list()\n",
        "val_Dice = list()\n",
        "best_val_loss = 1\n",
        "total_train_Dice = 0\n",
        "total_val_Dice = 0\n",
        "total_val = 0\n",
        "\n",
        "for epoch in range(no_epochs):\n",
        "    total_train_loss = 0\n",
        "    total_val_loss = 0\n",
        "    total_train = 0\n",
        "    Dice = 0\n",
        "    model.train()\n",
        "    total_p = 0\n",
        "    # training\n",
        "    for itr, (image, label) in enumerate(train_dataloader):\n",
        "\n",
        "        if (torch.cuda.is_available()):\n",
        "            image = image.cuda()\n",
        "            label = label.cuda()\n",
        "        optimizer.zero_grad()\n",
        "        \n",
        "        pred = model(image.float())\n",
        "        #print(image.min())\n",
        "        #print(pred.min())\n",
        "        #print(label.min())\n",
        "\n",
        "        loss = MSE(pred, label.float())\n",
        "        #print(loss)\n",
        "        total_train_loss += loss.item()\n",
        "        #ADDED HERE\n",
        "        \n",
        "        Dice = Dice_score(pred, label)\n",
        "        total_train_Dice += Dice.item()     \n",
        "\n",
        "        loss.backward()\n",
        "        optimizer.step()\n",
        "        # print(itr+1, \"Train Batch complete\")\n",
        "    total_train_Dice = total_train_Dice / (itr+1)\n",
        "    train_Dice.append(total_train_Dice)\n",
        "    total_train_loss = total_train_loss / (itr + 1)\n",
        "    train_loss.append(total_train_loss)\n",
        "    \n",
        "\n",
        "    # validation\n",
        "    model.eval()\n",
        "    total_val = 0\n",
        "    for itr, (image, label) in enumerate(val_dataloader):\n",
        "\n",
        "        if (torch.cuda.is_available()):\n",
        "            image = image.cuda()\n",
        "            label = label.cuda()\n",
        "\n",
        "        pred = model(image.float())\n",
        "\n",
        "        loss = MSE(pred, label.float())\n",
        "        total_val_loss += loss.item()\n",
        "\n",
        "        Dice = Dice_score(pred, label)\n",
        "        total_val_Dice += Dice.item()     \n",
        "\n",
        "\n",
        "    total_val_Dice = total_val_Dice / (itr+1)\n",
        "    val_Dice.append(total_val_Dice)\n",
        "    total_val_loss = total_val_loss / (itr + 1)\n",
        "    val_loss.append(total_val_loss)\n",
        "\n",
        "    print('\\nEpoch: {}/{}, Train Loss: {:.8f},Train Dice: {:.8f}, Val Loss: {:.8f}, Val DIce: {:.8f}'.format(epoch + 1, no_epochs, total_train_loss, total_train_Dice, total_val_loss, total_val_Dice))\n",
        "\n",
        "    if total_val_loss < best_val_loss:\n",
        "        best_val_loss = total_val_loss\n",
        "        print(\"Saving the model state dictionary for Epoch: {} with Validation loss: {:.8f}\".format(epoch + 1, total_val_loss))\n",
        "        torch.save(model.state_dict(), \"model.dth\")"
      ],
      "metadata": {
        "id": "4KH7UfLCKlqx"
      },
      "execution_count": null,
      "outputs": []
    },
    {
      "cell_type": "code",
      "source": [
        "import pandas as pd\n",
        "pd = TabularFormat(no_epochs,train_loss,train_Dice,val_loss,val_Dice)\n",
        "pd"
      ],
      "metadata": {
        "id": "eRz-CfdbKlqy"
      },
      "execution_count": null,
      "outputs": []
    },
    {
      "cell_type": "code",
      "source": [
        "GraphicalFormat(no_epochs,train_loss,train_Dice,val_loss,val_Dice)"
      ],
      "metadata": {
        "id": "tiMFpH1AKlqy"
      },
      "execution_count": null,
      "outputs": []
    },
    {
      "cell_type": "markdown",
      "source": [
        "# **Evaluating the model-**"
      ],
      "metadata": {
        "id": "tir3X1JDKlqy"
      }
    },
    {
      "cell_type": "code",
      "source": [
        "total_val_loss = 0\n",
        "# validation\n",
        "\n",
        "model.load_state_dict(torch.load('model.dth'))\n",
        "model.eval()\n",
        "total_val = 0\n",
        "Dice = 0\n",
        "for itr, (image, label) in enumerate(test_dataloader):\n",
        "\n",
        "    if (torch.cuda.is_available()):\n",
        "        image = image.cuda()\n",
        "        label = label.cuda()\n",
        "\n",
        "    pred = model(image.float())\n",
        "    loss = MSE(pred, label)\n",
        "    total_val_loss += loss.item()\n",
        "\n",
        "    Dice = Dice_score(pred, label)\n",
        "    total_val_Dice += Dice.item()\n",
        "\n",
        "\n",
        "total_val_Dice = total_val_Dice / (itr+1)\n",
        "val_Dice.append(total_val_Dice)\n",
        "total_val_loss = total_val_loss / (itr + 1)\n",
        "val_loss.append(total_val_loss)\n",
        "print('\\n Val Loss: {:.8f}, Val Dice: {:.8f}'.format( total_val_loss, total_val_Dice))"
      ],
      "metadata": {
        "id": "Fp4ZxVApKlqy"
      },
      "execution_count": null,
      "outputs": []
    },
    {
      "cell_type": "markdown",
      "source": [
        "## Example 1"
      ],
      "metadata": {
        "id": "cCMiHELjKlqy"
      }
    },
    {
      "cell_type": "code",
      "source": [
        "img, seg = testset[11]"
      ],
      "metadata": {
        "id": "8yNR7eACKlqy"
      },
      "execution_count": null,
      "outputs": []
    },
    {
      "cell_type": "code",
      "source": [
        "imge = img.reshape(128,128)\n",
        "plt.imshow(imge)"
      ],
      "metadata": {
        "id": "MP9PuQoGKlqy"
      },
      "execution_count": null,
      "outputs": []
    },
    {
      "cell_type": "code",
      "source": [
        "segm = seg.reshape(128,128)\n",
        "plt.imshow(segm)"
      ],
      "metadata": {
        "id": "qggH9s0cKlqy"
      },
      "execution_count": null,
      "outputs": []
    },
    {
      "cell_type": "code",
      "source": [
        "model.load_state_dict(torch.load('model.dth'))\n",
        "model.eval()\n",
        "img = img.view(1,1,128,128)\n",
        "img = img.cuda()\n",
        "pred = model(img.float())"
      ],
      "metadata": {
        "id": "KyhaJ8iUKlqz"
      },
      "execution_count": null,
      "outputs": []
    },
    {
      "cell_type": "code",
      "source": [
        "pred = pred.cpu()\n",
        "pred =pred.detach().numpy()\n",
        "predt = pred.reshape(128,128)\n",
        "plt.imshow(predt)"
      ],
      "metadata": {
        "id": "Wr1Rz3EDKlqz"
      },
      "execution_count": null,
      "outputs": []
    },
    {
      "cell_type": "code",
      "source": [],
      "metadata": {
        "id": "WvPTeGkYKlqz"
      },
      "execution_count": null,
      "outputs": []
    },
    {
      "cell_type": "markdown",
      "source": [
        "## Example 1"
      ],
      "metadata": {
        "id": "-pQmbp5qKlqz"
      }
    },
    {
      "cell_type": "code",
      "source": [
        "img, seg = testset[50]"
      ],
      "metadata": {
        "id": "0wDx9s2lKlqz"
      },
      "execution_count": null,
      "outputs": []
    },
    {
      "cell_type": "code",
      "source": [
        "imge = img.reshape(128,128)\n",
        "plt.imshow(imge)"
      ],
      "metadata": {
        "id": "l9xl1flAKlqz"
      },
      "execution_count": null,
      "outputs": []
    },
    {
      "cell_type": "code",
      "source": [
        "segm = seg.reshape(128,128)\n",
        "plt.imshow(segm)"
      ],
      "metadata": {
        "id": "l5VsgibhKlqz"
      },
      "execution_count": null,
      "outputs": []
    },
    {
      "cell_type": "code",
      "source": [
        "model.load_state_dict(torch.load('model.dth'))\n",
        "model.eval()\n",
        "img = img.view(1,1,128,128)\n",
        "img = img.cuda()\n",
        "pred = model(img.float())"
      ],
      "metadata": {
        "id": "FDEciK6cKlqz"
      },
      "execution_count": null,
      "outputs": []
    },
    {
      "cell_type": "code",
      "source": [
        "pred = pred.cpu()\n",
        "pred =pred.detach().numpy()\n",
        "predt = pred.reshape(128,128)\n",
        "plt.imshow(predt)"
      ],
      "metadata": {
        "id": "pcJxTGFZKlq0"
      },
      "execution_count": null,
      "outputs": []
    },
    {
      "cell_type": "code",
      "source": [],
      "metadata": {
        "id": "idClXj8moYue"
      },
      "execution_count": null,
      "outputs": []
    }
  ]
}