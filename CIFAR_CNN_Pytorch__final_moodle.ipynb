{
  "cells": [
    {
      "cell_type": "markdown",
      "metadata": {
        "id": "view-in-github",
        "colab_type": "text"
      },
      "source": [
        "<a href=\"https://colab.research.google.com/github/dibyanshu2305/Deep_learning_course_notebooks/blob/main/CIFAR_CNN_Pytorch__final_moodle.ipynb\" target=\"_parent\"><img src=\"https://colab.research.google.com/assets/colab-badge.svg\" alt=\"Open In Colab\"/></a>"
      ]
    },
    {
      "cell_type": "markdown",
      "metadata": {
        "id": "VYQDM2Guv653"
      },
      "source": [
        "# **CNN on CIFAR DATASET-**"
      ]
    },
    {
      "cell_type": "markdown",
      "metadata": {
        "id": "8RWSuwuJlwmZ"
      },
      "source": [
        "## Prerequisites-"
      ]
    },
    {
      "cell_type": "markdown",
      "metadata": {
        "id": "hImfQeafv2Wd"
      },
      "source": [
        "**Importing the libraries-**"
      ]
    },
    {
      "cell_type": "code",
      "execution_count": null,
      "metadata": {
        "id": "d2bxeBqzM07q"
      },
      "outputs": [],
      "source": [
        "import torch\n",
        "from torchvision import transforms\n",
        "import torchvision.datasets as datasets\n",
        "from torch import nn\n",
        "from torch import optim\n",
        "import torch.nn.functional as F\n",
        "import matplotlib.pyplot as plt\n",
        "import pandas as pd\n",
        "import numpy as np\n",
        "from torchvision.utils import make_grid\n",
        "from torch.utils.data.dataloader import DataLoader\n",
        "from torch.utils.data import random_split"
      ]
    },
    {
      "cell_type": "markdown",
      "metadata": {
        "id": "iPSjVUsGv-1l"
      },
      "source": [
        "##Downloading the data-"
      ]
    },
    {
      "cell_type": "code",
      "execution_count": null,
      "metadata": {
        "id": "OBuKYKJRPPPu"
      },
      "outputs": [],
      "source": [
        "cifar_trainset = datasets.CIFAR10(root='./data', train=True, download=True, transform=transforms.Compose([transforms.ToTensor(),transforms.Normalize((0.4914, 0.4822, 0.4465), (0.2023, 0.1994, 0.2010))]))\n",
        "cifar_testset = datasets.CIFAR10(root='./data', train=False, download=True, transform=transforms.Compose([transforms.ToTensor(),transforms.Normalize((0.4914, 0.4822, 0.4465), (0.2023, 0.1994, 0.2010))]))"
      ]
    },
    {
      "cell_type": "markdown",
      "metadata": {
        "id": "juoSoowhGn7y"
      },
      "source": [
        "##The CIFAR-10 dataset\n",
        "The CIFAR-10 dataset consists of 60000 32x32 colour images in 10 classes, with 6000 images per class. There are 50000 training images and 10000 test images.\n"
      ]
    },
    {
      "cell_type": "code",
      "execution_count": null,
      "metadata": {
        "id": "6DEYiNm5UfNR"
      },
      "outputs": [],
      "source": [
        "print(len(cifar_trainset))\n",
        "print(len(cifar_testset))"
      ]
    },
    {
      "cell_type": "code",
      "execution_count": null,
      "metadata": {
        "id": "433Er1G9Urqa"
      },
      "outputs": [],
      "source": [
        "classes = cifar_trainset.classes \n",
        "print('Number of Classes:', len(classes))\n",
        "print('Class Names :\\n', classes)"
      ]
    },
    {
      "cell_type": "code",
      "execution_count": null,
      "metadata": {
        "id": "DI8Y-UqZU6nt"
      },
      "outputs": [],
      "source": [
        "#shape of the image tensor\n",
        "img, label = cifar_trainset[64]\n",
        "img_shape = img.shape\n",
        "img_shape"
      ]
    },
    {
      "cell_type": "code",
      "execution_count": null,
      "metadata": {
        "id": "zKdPRy2HVFrO"
      },
      "outputs": [],
      "source": [
        "print(\"Max & Min Pixel Values:\", \"Max:\", torch.max(img), \"Min:\", torch.min(img))\n",
        "print(\"Pixel Values for all Channels:\\n\", img[:, :, :])"
      ]
    },
    {
      "cell_type": "markdown",
      "metadata": {
        "id": "8ay4s-HhwIvo"
      },
      "source": [
        "##Splitting the data into test, train and validation dataset-"
      ]
    },
    {
      "cell_type": "code",
      "execution_count": null,
      "metadata": {
        "id": "-itbdnAsPj0v"
      },
      "outputs": [],
      "source": [
        "cifar_trainset, cifar_valset = torch.utils.data.random_split(cifar_trainset, [int(0.8 * len(cifar_trainset)), int(0.2 * len(cifar_trainset))])"
      ]
    },
    {
      "cell_type": "code",
      "execution_count": null,
      "metadata": {
        "id": "60wIcFhlVW5f"
      },
      "outputs": [],
      "source": [
        "len(cifar_trainset)"
      ]
    },
    {
      "cell_type": "code",
      "execution_count": null,
      "metadata": {
        "id": "LPPUneQWVepk"
      },
      "outputs": [],
      "source": [
        "len(cifar_valset)"
      ]
    },
    {
      "cell_type": "code",
      "execution_count": null,
      "metadata": {
        "id": "h1y1Al2KVaRG"
      },
      "outputs": [],
      "source": [
        "len(cifar_testset)"
      ]
    },
    {
      "cell_type": "markdown",
      "metadata": {
        "id": "kq4ynnl-wQOf"
      },
      "source": [
        "**Shuffling and creating batches of data-**"
      ]
    },
    {
      "cell_type": "code",
      "execution_count": null,
      "metadata": {
        "id": "QTnO7yBkQTrD"
      },
      "outputs": [],
      "source": [
        "train_dataloader = torch.utils.data.DataLoader(cifar_trainset, batch_size=256, shuffle=True,num_workers=2)\n",
        "val_dataloader = torch.utils.data.DataLoader(cifar_valset, batch_size=256, shuffle=False,num_workers=2)\n",
        "test_dataloader = torch.utils.data.DataLoader(cifar_testset, batch_size=256, shuffle=False,num_workers=2)"
      ]
    },
    {
      "cell_type": "code",
      "execution_count": null,
      "metadata": {
        "id": "_Dn4x8GrQZgv"
      },
      "outputs": [],
      "source": [
        "print(\"Training dataset size: \", len(cifar_trainset))\n",
        "print(\"Validation dataset size: \", len(cifar_valset))\n",
        "print(\"Testing dataset size: \", len(cifar_testset))"
      ]
    },
    {
      "cell_type": "code",
      "execution_count": null,
      "metadata": {
        "id": "weWuRVPbYEP7"
      },
      "outputs": [],
      "source": [
        "print(\"No. of batches in Training dataset : \", len(train_dataloader))\n",
        "print(\"No. of batches in Validation dataset : \", len(val_dataloader))\n",
        "print(\"No. of batches in Testing dataset : \", len(test_dataloader))"
      ]
    },
    {
      "cell_type": "markdown",
      "metadata": {
        "id": "8sVhH_OWwVKn"
      },
      "source": [
        "**Visualising the data-**"
      ]
    },
    {
      "cell_type": "code",
      "execution_count": null,
      "metadata": {
        "id": "R8MGp5WfV0wy"
      },
      "outputs": [],
      "source": [
        "img, label = cifar_trainset[60]\n",
        "img[0] = img[0] * 0.2023 + 0.4914\n",
        "img[1] = img[1] * 0.1994 + 0.4822\n",
        "img[2] = img[2] * 0.2010 + 0.4465\n",
        "plt.imshow(img.permute((1,2,0)))\n",
        "plt.show()\n",
        "print('Label as Number:', label)\n",
        "print('Label as Name:', classes[label])"
      ]
    },
    {
      "cell_type": "code",
      "execution_count": null,
      "metadata": {
        "id": "-EI0DoTnaKUf"
      },
      "outputs": [],
      "source": [
        "for i in range(6):\n",
        "  img, label = cifar_trainset[ i +64]\n",
        "  img[0] = img[0] * 0.2023 + 0.4914\n",
        "  img[1] = img[1] * 0.1994 + 0.4822\n",
        "  img[2] = img[2] * 0.2010 + 0.4465\n",
        "  plt.imshow(img.permute((1,2,0)))\n",
        "  plt.show()\n",
        "  print('Label as Number:', label)\n",
        "  print('Label as Name:', classes[label])"
      ]
    },
    {
      "cell_type": "code",
      "execution_count": null,
      "metadata": {
        "id": "9O4Du0drhFTV"
      },
      "outputs": [],
      "source": [
        "for images, _ in train_dataloader:\n",
        "    images[0] = images[0] * 0.2023 + 0.4914\n",
        "    images[1] = images[1] * 0.1994 + 0.4822\n",
        "    images[2] = images[2] * 0.2010 + 0.4465 \n",
        "    print('Shape of an Image (Batch Size, RGB, Pixels):', images.shape)\n",
        "    plt.figure(figsize=(16,8))\n",
        "    plt.axis('off')\n",
        "    plt.imshow(make_grid(images, nrow=16).permute((1,2,0))) # we need permute here because matplotlib wants to have the channels as the last dimension\n",
        "    break"
      ]
    },
    {
      "cell_type": "code",
      "execution_count": null,
      "metadata": {
        "id": "OXq2PXLJYvBx"
      },
      "outputs": [],
      "source": [
        "def TabularFormat(epochs,train_cost,train_acc,eval_cost,eval_acc):\n",
        "  ep = []\n",
        "  for i in range(1,epochs+1):\n",
        "    ep.append(i)\n",
        "  return pd.DataFrame(list(zip(ep,train_cost,train_acc,eval_cost,eval_acc)),columns = ['Epoch Value','Training Loss','Training Accuracy','Validation loss','Validation Accuracy'])"
      ]
    },
    {
      "cell_type": "code",
      "execution_count": null,
      "metadata": {
        "id": "YmQ70cNfZ1Bw"
      },
      "outputs": [],
      "source": [
        "def GraphicalFormat(epochs,train_cost,train_acc,eval_cost,eval_acc):\n",
        "  ep = []\n",
        "  for i in range(1,epochs+1):\n",
        "    ep.append(i)\n",
        "\n",
        "  plt.figure(figsize =(12,7))\n",
        "  plt.plot(ep,eval_cost,label = \"Evaluation Loss\")\n",
        "  plt.plot(ep,train_cost,label = \"Training Loss\")\n",
        "  plt.ylabel(\"Loss\",fontsize = 15)\n",
        "  plt.xlabel(\"No. of Epoch\",fontsize = 15)\n",
        "  plt.legend(fontsize = 12,loc = \"best\")\n",
        "  plt.title(\"Graph between value of Trainig and Validation Loss V/s Epochs\",fontsize = 15)\n",
        "  plt.show()\n",
        "  print(\"\\n\\n__________________________________________________\\n\\n\")\n",
        "  plt.figure(figsize =(12,7))\n",
        "  plt.plot(ep,train_acc,label = \"Training Accuracy\")\n",
        "  plt.plot(ep,eval_acc,label = \"Evaluation Accuracy\")\n",
        "  plt.ylabel(\"Accuracy\",fontsize = 15)\n",
        "  plt.xlabel(\"No. of Epoch\",fontsize = 15)\n",
        "  plt.legend(fontsize = 12,loc = \"best\")\n",
        "  plt.title(\"Graph between Trainig and Validation Accuracies V/s Epochs\",fontsize = 15)\n",
        "  plt.show()"
      ]
    },
    {
      "cell_type": "markdown",
      "metadata": {
        "id": "Fkc3TyeNwitb"
      },
      "source": [
        "##**Defining the CNN-**"
      ]
    },
    {
      "cell_type": "code",
      "execution_count": null,
      "metadata": {
        "id": "qO4ingCAQyp9"
      },
      "outputs": [],
      "source": [
        "class Model(torch.nn.Module):\n",
        "    def __init__(self):\n",
        "        super(Model, self).__init__()\n",
        "        self.conv_1 = torch.nn.Conv2d(in_channels=3, out_channels=32, kernel_size=3, stride=1, padding=1)\n",
        "        self.conv_2 = torch.nn.Conv2d(in_channels=32, out_channels=64, kernel_size=3, stride=1, padding=1)\n",
        "        self.conv_3 = torch.nn.Conv2d(in_channels=64, out_channels=128, kernel_size=3, stride=1, padding=1)\n",
        "        self.conv_4 = torch.nn.Conv2d(in_channels=128, out_channels=256, kernel_size=3, stride=1, padding=1)\n",
        "        self.max_pool2d = torch.nn.MaxPool2d(kernel_size=2, stride=2)\n",
        "        self.linear_1 = torch.nn.Linear(4 * 4 * 256, 512)\n",
        "        self.linear_2 = torch.nn.Linear(512, 128)\n",
        "        self.linear_3 = torch.nn.Linear(128, 10)\n",
        "        self.dropout = torch.nn.Dropout(p=0.00)\n",
        "        self.relu = torch.nn.ReLU()\n",
        "\n",
        "    def forward(self, x):\n",
        "        x = self.conv_1(x)\n",
        "        x = self.relu(x)\n",
        "        # x = self.max_pool2d(x)\n",
        "        x = self.conv_2(x)\n",
        "        x = self.relu(x)\n",
        "        x = self.max_pool2d(x)\n",
        "        x = self.conv_3(x)\n",
        "        x = self.max_pool2d(x)\n",
        "        x = self.conv_4(x)\n",
        "        x = self.max_pool2d(x)\n",
        "        x = x.reshape(x.size(0), -1)\n",
        "        x = self.linear_1(x)\n",
        "        x = self.relu(x)\n",
        "        x = self.dropout(x)\n",
        "        x = self.linear_2(x)\n",
        "        x = self.relu(x)\n",
        "        x = self.dropout(x)\n",
        "        pred = self.linear_3(x)\n",
        "\n",
        "        return pred\n",
        "\n",
        "#Initialising the model\n",
        "model = Model()\n",
        "print(\"The overall model is - \\n\")\n",
        "print(model)\n",
        "dash = \"________________________________________________________________________\\n\\n\"\n",
        "print(dash)\n",
        "\n",
        "\n",
        "criterion = torch.nn.CrossEntropyLoss()\n",
        "optimizer = torch.optim.SGD(model.parameters(), lr=0.001,momentum=0.9, weight_decay=0)\n",
        "\n",
        "# Print model's state_dict\n",
        "print(\"Model's state_dict:\")\n",
        "for param_tensor in model.state_dict():\n",
        "    print(param_tensor, \"\\t\", model.state_dict()[param_tensor].size())\n",
        "\n",
        "# Print optimizer's state_dict\n",
        "print(\"Optimizer's state_dict:\")\n",
        "for var_name in optimizer.state_dict():\n",
        "    print(var_name, \"\\t\", optimizer.state_dict()[var_name])\n",
        "\n",
        "if (torch.cuda.is_available()):\n",
        "    model.cuda()"
      ]
    },
    {
      "cell_type": "markdown",
      "metadata": {
        "id": "ChlFcRht3zKC"
      },
      "source": [
        "## **Training-**"
      ]
    },
    {
      "cell_type": "code",
      "execution_count": null,
      "metadata": {
        "id": "hwtspyvoQbOn"
      },
      "outputs": [],
      "source": [
        "num_epochs = 100\n",
        "train_loss = list()\n",
        "val_loss = list()\n",
        "train_accuracy = list()\n",
        "val_accuracy = list()\n",
        "best_val_loss = 1\n",
        "total_train = 0\n",
        "correct_train = 0\n",
        "total_val = 0\n",
        "correct_val = 0\n",
        "for epoch in range(num_epochs):\n",
        "    total_train_loss = 0\n",
        "    total_val_loss = 0\n",
        "    total_train = 0\n",
        "    correct_train = 0\n",
        "    model.train()\n",
        "    total_p = 0\n",
        "    # training\n",
        "    for itr, (image, label) in enumerate(train_dataloader):\n",
        "\n",
        "        if (torch.cuda.is_available()):\n",
        "            image = image.cuda()\n",
        "            label = label.cuda()\n",
        "\n",
        "        optimizer.zero_grad()\n",
        "\n",
        "        pred = model(image)\n",
        "\n",
        "        loss = criterion(pred, label)\n",
        "        total_train_loss += loss.item()\n",
        "        #ADDED HERE\n",
        "        _, predicted = torch.max(pred, 1)\n",
        "        total_train += label.size(0)\n",
        "        correct_train += (predicted == label).sum().item() \n",
        "        # print(\"correct train = \",correct_train)      \n",
        "\n",
        "        loss.backward()\n",
        "        optimizer.step()\n",
        "        # print(itr+1, \"Train Batch complete\")\n",
        "    accuracy_train = (100 * correct_train) / total_train\n",
        "    train_accuracy.append(accuracy_train)\n",
        "    total_train_loss = total_train_loss / (itr + 1)\n",
        "    train_loss.append(total_train_loss)\n",
        "    \n",
        "\n",
        "    # validation\n",
        "    model.eval()\n",
        "    total_val = 0\n",
        "    correct_val = 0\n",
        "    for itr, (image, label) in enumerate(val_dataloader):\n",
        "\n",
        "        if (torch.cuda.is_available()):\n",
        "            image = image.cuda()\n",
        "            label = label.cuda()\n",
        "\n",
        "        pred = model(image)\n",
        "\n",
        "        loss = criterion(pred, label)\n",
        "        total_val_loss += loss.item()\n",
        "\n",
        "        _, predicted = torch.max(pred, 1)\n",
        "        total_val += label.size(0)\n",
        "        correct_val += (predicted == label).sum().item() \n",
        "        # print(\"correct test = \",correct_val) \n",
        "        # print(itr+1, \"Test Batch complete\")     \n",
        "      \n",
        "\n",
        "\n",
        "    accuracy = (100 * correct_val) / total_val\n",
        "    val_accuracy.append(accuracy)\n",
        "\n",
        "    total_val_loss = total_val_loss / (itr + 1)\n",
        "    val_loss.append(total_val_loss)\n",
        "\n",
        "    print('\\nEpoch: {}/{}, Train Loss: {:.8f},Train Accuracy: {:.8f}, Val Loss: {:.8f}, Val Accuracy: {:.8f}'.format(epoch + 1, num_epochs, total_train_loss,accuracy_train, total_val_loss, accuracy))\n",
        "\n",
        "    if total_val_loss < best_val_loss:\n",
        "        best_val_loss = total_val_loss\n",
        "        print(\"Saving the model state dictionary for Epoch: {} with Validation loss: {:.8f}\".format(epoch + 1, total_val_loss))\n",
        "        torch.save(model.state_dict(), \"model.dth\")"
      ]
    },
    {
      "cell_type": "code",
      "execution_count": null,
      "metadata": {
        "id": "PZSwMAtSY65p"
      },
      "outputs": [],
      "source": [
        "pd = TabularFormat(num_epochs,train_loss,train_accuracy,val_loss,val_accuracy)\n",
        "pd"
      ]
    },
    {
      "cell_type": "code",
      "execution_count": null,
      "metadata": {
        "id": "nNxQhicldT5h"
      },
      "outputs": [],
      "source": [
        "GraphicalFormat(num_epochs,train_loss,train_accuracy,val_loss,val_accuracy)"
      ]
    },
    {
      "cell_type": "markdown",
      "metadata": {
        "id": "nQ299bvbkaKq"
      },
      "source": [
        "**We can see that the model has been overfitted.**"
      ]
    },
    {
      "cell_type": "markdown",
      "metadata": {
        "id": "uqD5nLzilSGU"
      },
      "source": [
        "**To reduce overfitting, the very first step we will do is to reduce the model complexity-**"
      ]
    },
    {
      "cell_type": "markdown",
      "metadata": {
        "id": "ngkTrswdmEan"
      },
      "source": [
        "## **Reducing Overfitting-**"
      ]
    },
    {
      "cell_type": "markdown",
      "metadata": {
        "id": "ajg8oFDAEXgF"
      },
      "source": [
        "### **1st Attempt-**"
      ]
    },
    {
      "cell_type": "code",
      "execution_count": null,
      "metadata": {
        "id": "1aG-JgVLmK_e"
      },
      "outputs": [],
      "source": [
        "class Model(torch.nn.Module):\n",
        "    def __init__(self):\n",
        "        super(Model, self).__init__()\n",
        "        self.conv_1 = torch.nn.Conv2d(in_channels=3, out_channels=32, kernel_size=3, stride=1, padding=1)\n",
        "        self.conv_2 = torch.nn.Conv2d(in_channels=32, out_channels=64, kernel_size=3, stride=1, padding=1)\n",
        "        self.conv_3 = torch.nn.Conv2d(in_channels=64, out_channels=128, kernel_size=3, stride=1, padding=1)\n",
        "        # self.conv_4 = torch.nn.Conv2d(in_channels=128, out_channels=256, kernel_size=3, stride=1, padding=1)\n",
        "        self.max_pool2d = torch.nn.MaxPool2d(kernel_size=2, stride=2)\n",
        "        self.linear_1 = torch.nn.Linear(4 * 4 * 128, 128)\n",
        "        # self.linear_2 = torch.nn.Linear(512, 128)\n",
        "        self.linear_3 = torch.nn.Linear(128, 10)\n",
        "        self.dropout = torch.nn.Dropout(p=0.00)\n",
        "        self.relu = torch.nn.ReLU()\n",
        "\n",
        "    def forward(self, x):\n",
        "        x = self.conv_1(x)\n",
        "        x = self.relu(x)\n",
        "        x = self.max_pool2d(x)\n",
        "        x = self.conv_2(x)\n",
        "        x = self.relu(x)\n",
        "        x = self.max_pool2d(x)\n",
        "        x = self.conv_3(x)\n",
        "        x = self.max_pool2d(x)\n",
        "        # x = self.conv_4(x)\n",
        "        # x = self.max_pool2d(x)\n",
        "        x = x.reshape(x.size(0), -1)\n",
        "        x = self.linear_1(x)\n",
        "        x = self.relu(x)\n",
        "        x = self.dropout(x)\n",
        "        # x = self.linear_2(x)\n",
        "        # x = self.relu(x)\n",
        "        # x = self.dropout(x)\n",
        "        pred = self.linear_3(x)\n",
        "\n",
        "        return pred\n",
        "\n",
        "#Initialising the model\n",
        "model = Model()\n",
        "print(\"The overall model is - \\n\")\n",
        "print(model)\n",
        "dash = \"________________________________________________________________________\\n\\n\"\n",
        "print(dash)\n",
        "\n",
        "\n",
        "criterion = torch.nn.CrossEntropyLoss()\n",
        "optimizer = torch.optim.SGD(model.parameters(), lr=0.001,momentum=0.9, weight_decay=0)\n",
        "\n",
        "# Print model's state_dict\n",
        "print(\"Model's state_dict:\")\n",
        "for param_tensor in model.state_dict():\n",
        "    print(param_tensor, \"\\t\", model.state_dict()[param_tensor].size())\n",
        "\n",
        "# Print optimizer's state_dict\n",
        "print(\"Optimizer's state_dict:\")\n",
        "for var_name in optimizer.state_dict():\n",
        "    print(var_name, \"\\t\", optimizer.state_dict()[var_name])\n",
        "\n",
        "if (torch.cuda.is_available()):\n",
        "    model.cuda()"
      ]
    },
    {
      "cell_type": "code",
      "execution_count": null,
      "metadata": {
        "id": "eZO0d3Tjo7DW"
      },
      "outputs": [],
      "source": [
        "num_epochs = 100\n",
        "train_loss = list()\n",
        "val_loss = list()\n",
        "train_accuracy = list()\n",
        "val_accuracy = list()\n",
        "best_val_loss = 1\n",
        "total_train = 0\n",
        "correct_train = 0\n",
        "total_val = 0\n",
        "correct_val = 0\n",
        "for epoch in range(num_epochs):\n",
        "    total_train_loss = 0\n",
        "    total_val_loss = 0\n",
        "    total_train = 0\n",
        "    correct_train = 0\n",
        "    model.train()\n",
        "    total_p = 0\n",
        "    # training\n",
        "    for itr, (image, label) in enumerate(train_dataloader):\n",
        "\n",
        "        if (torch.cuda.is_available()):\n",
        "            image = image.cuda()\n",
        "            label = label.cuda()\n",
        "\n",
        "        optimizer.zero_grad()\n",
        "\n",
        "        pred = model(image)\n",
        "\n",
        "        loss = criterion(pred, label)\n",
        "        total_train_loss += loss.item()\n",
        "        #ADDED HERE\n",
        "        _, predicted = torch.max(pred, 1)\n",
        "        total_train += label.size(0)\n",
        "        correct_train += (predicted == label).sum().item() \n",
        "        # print(\"correct train = \",correct_train)      \n",
        "\n",
        "        loss.backward()\n",
        "        optimizer.step()\n",
        "        # print(itr+1, \"Train Batch complete\")\n",
        "    accuracy_train = (100 * correct_train) / total_train\n",
        "    train_accuracy.append(accuracy_train)\n",
        "    total_train_loss = total_train_loss / (itr + 1)\n",
        "    train_loss.append(total_train_loss)\n",
        "    \n",
        "\n",
        "    # validation\n",
        "    model.eval()\n",
        "    total_val = 0\n",
        "    correct_val = 0\n",
        "    for itr, (image, label) in enumerate(val_dataloader):\n",
        "\n",
        "        if (torch.cuda.is_available()):\n",
        "            image = image.cuda()\n",
        "            label = label.cuda()\n",
        "\n",
        "        pred = model(image)\n",
        "\n",
        "        loss = criterion(pred, label)\n",
        "        total_val_loss += loss.item()\n",
        "\n",
        "        _, predicted = torch.max(pred, 1)\n",
        "        total_val += label.size(0)\n",
        "        correct_val += (predicted == label).sum().item() \n",
        "        # print(\"correct test = \",correct_val) \n",
        "        # print(itr+1, \"Test Batch complete\")     \n",
        "      \n",
        "\n",
        "\n",
        "    accuracy = (100 * correct_val) / total_val\n",
        "    val_accuracy.append(accuracy)\n",
        "\n",
        "    total_val_loss = total_val_loss / (itr + 1)\n",
        "    val_loss.append(total_val_loss)\n",
        "\n",
        "    print('\\nEpoch: {}/{}, Train Loss: {:.8f},Train Accuracy: {:.8f}, Val Loss: {:.8f}, Val Accuracy: {:.8f}'.format(epoch + 1, num_epochs, total_train_loss,accuracy_train, total_val_loss, accuracy))\n",
        "\n",
        "    if total_val_loss < best_val_loss:\n",
        "        best_val_loss = total_val_loss\n",
        "        print(\"Saving the model state dictionary for Epoch: {} with Validation loss: {:.8f}\".format(epoch + 1, total_val_loss))\n",
        "        torch.save(model.state_dict(), \"model.dth\")"
      ]
    },
    {
      "cell_type": "code",
      "execution_count": null,
      "metadata": {
        "id": "ROHzHUGbo7Aw"
      },
      "outputs": [],
      "source": [
        "pd = TabularFormat(num_epochs,train_loss,train_accuracy,val_loss,val_accuracy)\n",
        "pd"
      ]
    },
    {
      "cell_type": "code",
      "execution_count": null,
      "metadata": {
        "id": "MW57VNGbo6-O"
      },
      "outputs": [],
      "source": [
        "GraphicalFormat(num_epochs,train_loss,train_accuracy,val_loss,val_accuracy)"
      ]
    },
    {
      "cell_type": "markdown",
      "metadata": {
        "id": "st16ObQ9t2NW"
      },
      "source": [
        "**We observe an overfitting again, so we again reduce the complexity of the model-**"
      ]
    },
    {
      "cell_type": "markdown",
      "metadata": {
        "id": "RYOLhjxoEgJ-"
      },
      "source": [
        "### **2nd Attempt-**"
      ]
    },
    {
      "cell_type": "code",
      "execution_count": null,
      "metadata": {
        "id": "Txf-1CHYo67j"
      },
      "outputs": [],
      "source": [
        "class Model(torch.nn.Module):\n",
        "    def __init__(self):\n",
        "        super(Model, self).__init__()\n",
        "        self.conv_1 = torch.nn.Conv2d(in_channels=3, out_channels=32, kernel_size=3, stride=1, padding=1)\n",
        "        self.conv_2 = torch.nn.Conv2d(in_channels=32, out_channels=64, kernel_size=3, stride=1, padding=1)\n",
        "        # self.conv_3 = torch.nn.Conv2d(in_channels=64, out_channels=128, kernel_size=3, stride=1, padding=1)\n",
        "        # self.conv_4 = torch.nn.Conv2d(in_channels=128, out_channels=256, kernel_size=3, stride=1, padding=1)\n",
        "        self.max_pool2d = torch.nn.MaxPool2d(kernel_size=2, stride=2)\n",
        "        self.linear_1 = torch.nn.Linear(8 * 8 * 64, 128)\n",
        "        # self.linear_2 = torch.nn.Linear(512, 128)\n",
        "        self.linear_3 = torch.nn.Linear(128, 10)\n",
        "        self.dropout = torch.nn.Dropout(p=0.5)\n",
        "        self.relu = torch.nn.ReLU()\n",
        "\n",
        "    def forward(self, x):\n",
        "        x = self.conv_1(x)\n",
        "        x = self.relu(x)\n",
        "        x = self.max_pool2d(x)\n",
        "        x = self.conv_2(x)\n",
        "        x = self.relu(x)\n",
        "        x = self.max_pool2d(x)\n",
        "        # x = self.conv_3(x)\n",
        "        # x = self.max_pool2d(x)\n",
        "        # x = self.conv_4(x)\n",
        "        # x = self.max_pool2d(x)\n",
        "        x = x.reshape(x.size(0), -1)\n",
        "        x = self.linear_1(x)\n",
        "        x = self.relu(x)\n",
        "        x = self.dropout(x)\n",
        "        # x = self.linear_2(x)\n",
        "        # x = self.relu(x)\n",
        "        # x = self.dropout(x)\n",
        "        pred = self.linear_3(x)\n",
        "\n",
        "        return pred\n",
        "\n",
        "#Initialising the model\n",
        "model = Model()\n",
        "print(\"The overall model is - \\n\")\n",
        "print(model)\n",
        "dash = \"________________________________________________________________________\\n\\n\"\n",
        "print(dash)\n",
        "\n",
        "\n",
        "criterion = torch.nn.CrossEntropyLoss()\n",
        "optimizer = torch.optim.SGD(model.parameters(), lr=0.001,momentum=0.9, weight_decay=0.001)\n",
        "\n",
        "# Print model's state_dict\n",
        "print(\"Model's state_dict:\")\n",
        "for param_tensor in model.state_dict():\n",
        "    print(param_tensor, \"\\t\", model.state_dict()[param_tensor].size())\n",
        "\n",
        "# Print optimizer's state_dict\n",
        "print(\"Optimizer's state_dict:\")\n",
        "for var_name in optimizer.state_dict():\n",
        "    print(var_name, \"\\t\", optimizer.state_dict()[var_name])\n",
        "\n",
        "if (torch.cuda.is_available()):\n",
        "    model.cuda()"
      ]
    },
    {
      "cell_type": "code",
      "execution_count": null,
      "metadata": {
        "id": "hMXMRD2Mo65M"
      },
      "outputs": [],
      "source": [
        "num_epochs = 50\n",
        "train_loss = list()\n",
        "val_loss = list()\n",
        "train_accuracy = list()\n",
        "val_accuracy = list()\n",
        "best_val_loss = 1\n",
        "total_train = 0\n",
        "correct_train = 0\n",
        "total_val = 0\n",
        "correct_val = 0\n",
        "for epoch in range(num_epochs):\n",
        "    total_train_loss = 0\n",
        "    total_val_loss = 0\n",
        "    total_train = 0\n",
        "    correct_train = 0\n",
        "    model.train()\n",
        "    total_p = 0\n",
        "    # training\n",
        "    for itr, (image, label) in enumerate(train_dataloader):\n",
        "\n",
        "        if (torch.cuda.is_available()):\n",
        "            image = image.cuda()\n",
        "            label = label.cuda()\n",
        "\n",
        "        optimizer.zero_grad()\n",
        "\n",
        "        pred = model(image)\n",
        "\n",
        "        loss = criterion(pred, label)\n",
        "        total_train_loss += loss.item()\n",
        "        #ADDED HERE\n",
        "        _, predicted = torch.max(pred, 1)\n",
        "        total_train += label.size(0)\n",
        "        correct_train += (predicted == label).sum().item() \n",
        "        # print(\"correct train = \",correct_train)      \n",
        "\n",
        "        loss.backward()\n",
        "        optimizer.step()\n",
        "        # print(itr+1, \"Train Batch complete\")\n",
        "    accuracy_train = (100 * correct_train) / total_train\n",
        "    train_accuracy.append(accuracy_train)\n",
        "    total_train_loss = total_train_loss / (itr + 1)\n",
        "    train_loss.append(total_train_loss)\n",
        "    \n",
        "\n",
        "    # validation\n",
        "    model.eval()\n",
        "    total_val = 0\n",
        "    correct_val = 0\n",
        "    for itr, (image, label) in enumerate(val_dataloader):\n",
        "\n",
        "        if (torch.cuda.is_available()):\n",
        "            image = image.cuda()\n",
        "            label = label.cuda()\n",
        "\n",
        "        pred = model(image)\n",
        "\n",
        "        loss = criterion(pred, label)\n",
        "        total_val_loss += loss.item()\n",
        "\n",
        "        _, predicted = torch.max(pred, 1)\n",
        "        total_val += label.size(0)\n",
        "        correct_val += (predicted == label).sum().item() \n",
        "        # print(\"correct test = \",correct_val) \n",
        "        # print(itr+1, \"Test Batch complete\")     \n",
        "      \n",
        "\n",
        "\n",
        "    accuracy = (100 * correct_val) / total_val\n",
        "    val_accuracy.append(accuracy)\n",
        "\n",
        "    total_val_loss = total_val_loss / (itr + 1)\n",
        "    val_loss.append(total_val_loss)\n",
        "\n",
        "    print('\\nEpoch: {}/{}, Train Loss: {:.8f},Train Accuracy: {:.8f}, Val Loss: {:.8f}, Val Accuracy: {:.8f}'.format(epoch + 1, num_epochs, total_train_loss,accuracy_train, total_val_loss, accuracy))\n",
        "\n",
        "    if total_val_loss < best_val_loss:\n",
        "        best_val_loss = total_val_loss\n",
        "        print(\"Saving the model state dictionary for Epoch: {} with Validation loss: {:.8f}\".format(epoch + 1, total_val_loss))\n",
        "        torch.save(model.state_dict(), \"model.dth\")"
      ]
    },
    {
      "cell_type": "code",
      "execution_count": null,
      "metadata": {
        "id": "tqlzWIKg1kTT"
      },
      "outputs": [],
      "source": [
        "pd = TabularFormat(num_epochs,train_loss,train_accuracy,val_loss,val_accuracy)\n",
        "pd"
      ]
    },
    {
      "cell_type": "code",
      "execution_count": null,
      "metadata": {
        "id": "LRbk5n1M1kQq"
      },
      "outputs": [],
      "source": [
        "GraphicalFormat(num_epochs,train_loss,train_accuracy,val_loss,val_accuracy)"
      ]
    },
    {
      "cell_type": "markdown",
      "metadata": {
        "id": "NcHIMgSs4Fht"
      },
      "source": [
        "**Further reducing the model complexity-**"
      ]
    },
    {
      "cell_type": "markdown",
      "metadata": {
        "id": "B86fR4WuEqjV"
      },
      "source": [
        "### **3rd Attempt-**"
      ]
    },
    {
      "cell_type": "code",
      "execution_count": null,
      "metadata": {
        "id": "J2pnb6c41kOG"
      },
      "outputs": [],
      "source": [
        "class Model(torch.nn.Module):\n",
        "    def __init__(self):\n",
        "        super(Model, self).__init__()\n",
        "        self.conv_1 = torch.nn.Conv2d(in_channels=3, out_channels=6, kernel_size=5, stride=1, padding=0)\n",
        "        self.conv_2 = torch.nn.Conv2d(in_channels=6, out_channels=16, kernel_size=5, stride=1, padding=0)\n",
        "        # self.conv_3 = torch.nn.Conv2d(in_channels=64, out_channels=128, kernel_size=3, stride=1, padding=1)\n",
        "        # self.conv_4 = torch.nn.Conv2d(in_channels=128, out_channels=256, kernel_size=3, stride=1, padding=1)\n",
        "        self.max_pool2d = torch.nn.MaxPool2d(kernel_size=2, stride=2)\n",
        "        self.linear_1 = torch.nn.Linear(5 * 5 * 16, 128)\n",
        "        # self.linear_2 = torch.nn.Linear(512, 128)\n",
        "        self.linear_3 = torch.nn.Linear(128, 10)\n",
        "        self.dropout = torch.nn.Dropout(p=0.5)\n",
        "        self.relu = torch.nn.ReLU()\n",
        "\n",
        "    def forward(self, x):\n",
        "        x = self.conv_1(x)\n",
        "        x = self.relu(x)\n",
        "        x = self.max_pool2d(x)\n",
        "        x = self.conv_2(x)\n",
        "        x = self.relu(x)\n",
        "        x = self.max_pool2d(x)\n",
        "        # x = self.conv_3(x)\n",
        "        # x = self.max_pool2d(x)\n",
        "        # x = self.conv_4(x)\n",
        "        # x = self.max_pool2d(x)\n",
        "        x = x.reshape(x.size(0), -1)\n",
        "        x = self.linear_1(x)\n",
        "        x = self.relu(x)\n",
        "        x = self.dropout(x)\n",
        "        # x = self.linear_2(x)\n",
        "        # x = self.relu(x)\n",
        "        # x = self.dropout(x)\n",
        "        pred = self.linear_3(x)\n",
        "\n",
        "        return pred\n",
        "\n",
        "#Initialising the model\n",
        "model = Model()\n",
        "print(\"The overall model is - \\n\")\n",
        "print(model)\n",
        "dash = \"________________________________________________________________________\\n\\n\"\n",
        "print(dash)\n",
        "\n",
        "\n",
        "criterion = torch.nn.CrossEntropyLoss()\n",
        "optimizer = torch.optim.SGD(model.parameters(), lr=0.001,momentum=0.9, weight_decay=0.001)\n",
        "\n",
        "# Print model's state_dict\n",
        "print(\"Model's state_dict:\")\n",
        "for param_tensor in model.state_dict():\n",
        "    print(param_tensor, \"\\t\", model.state_dict()[param_tensor].size())\n",
        "\n",
        "# Print optimizer's state_dict\n",
        "print(\"Optimizer's state_dict:\")\n",
        "for var_name in optimizer.state_dict():\n",
        "    print(var_name, \"\\t\", optimizer.state_dict()[var_name])\n",
        "\n",
        "if (torch.cuda.is_available()):\n",
        "    model.cuda()"
      ]
    },
    {
      "cell_type": "code",
      "execution_count": null,
      "metadata": {
        "id": "QBWu4na11kLt"
      },
      "outputs": [],
      "source": [
        "num_epochs = 50\n",
        "train_loss = list()\n",
        "val_loss = list()\n",
        "train_accuracy = list()\n",
        "val_accuracy = list()\n",
        "best_val_loss = 1\n",
        "total_train = 0\n",
        "correct_train = 0\n",
        "total_val = 0\n",
        "correct_val = 0\n",
        "\n",
        "for epoch in range(num_epochs):\n",
        "    total_train_loss = 0\n",
        "    total_val_loss = 0\n",
        "    total_train = 0\n",
        "    correct_train = 0\n",
        "    model.train()\n",
        "    total_p = 0\n",
        "    # training\n",
        "    for itr, (image, label) in enumerate(train_dataloader):\n",
        "\n",
        "        if (torch.cuda.is_available()):\n",
        "            image = image.cuda()\n",
        "            label = label.cuda()\n",
        "\n",
        "        optimizer.zero_grad()\n",
        "\n",
        "        pred = model(image)\n",
        "\n",
        "        loss = criterion(pred, label)\n",
        "        total_train_loss += loss.item()\n",
        "        #ADDED HERE\n",
        "        _, predicted = torch.max(pred, 1)\n",
        "        total_train += label.size(0)\n",
        "        correct_train += (predicted == label).sum().item() \n",
        "        # print(\"correct train = \",correct_train)      \n",
        "\n",
        "        loss.backward()\n",
        "        optimizer.step()\n",
        "        # print(itr+1, \"Train Batch complete\")\n",
        "    accuracy_train = (100 * correct_train) / total_train\n",
        "    train_accuracy.append(accuracy_train)\n",
        "    total_train_loss = total_train_loss / (itr + 1)\n",
        "    train_loss.append(total_train_loss)\n",
        "    \n",
        "\n",
        "    # validation\n",
        "    model.eval()\n",
        "    total_val = 0\n",
        "    correct_val = 0\n",
        "    for itr, (image, label) in enumerate(val_dataloader):\n",
        "\n",
        "        if (torch.cuda.is_available()):\n",
        "            image = image.cuda()\n",
        "            label = label.cuda()\n",
        "\n",
        "        pred = model(image)\n",
        "\n",
        "        loss = criterion(pred, label)\n",
        "        total_val_loss += loss.item()\n",
        "\n",
        "        _, predicted = torch.max(pred, 1)\n",
        "        total_val += label.size(0)\n",
        "        correct_val += (predicted == label).sum().item() \n",
        "\n",
        "    accuracy = (100 * correct_val) / total_val\n",
        "    val_accuracy.append(accuracy)\n",
        "\n",
        "    total_val_loss = total_val_loss / (itr + 1)\n",
        "    val_loss.append(total_val_loss)\n",
        "\n",
        "    print('\\nEpoch: {}/{}, Train Loss: {:.8f},Train Accuracy: {:.8f}, Val Loss: {:.8f}, Val Accuracy: {:.8f}'.format(epoch + 1, num_epochs, total_train_loss,accuracy_train, total_val_loss, accuracy))\n",
        "\n",
        "    if total_val_loss < best_val_loss:\n",
        "        best_val_loss = total_val_loss\n",
        "        print(\"Saving the model state dictionary for Epoch: {} with Validation loss: {:.8f}\".format(epoch + 1, total_val_loss))\n",
        "        torch.save(model.state_dict(), \"model.dth\")"
      ]
    },
    {
      "cell_type": "code",
      "execution_count": null,
      "metadata": {
        "id": "_FaF28A0_AAT"
      },
      "outputs": [],
      "source": [
        "pd = TabularFormat(num_epochs,train_loss,train_accuracy,val_loss,val_accuracy)\n",
        "pd"
      ]
    },
    {
      "cell_type": "code",
      "execution_count": null,
      "metadata": {
        "id": "7Wi76iSL-_6_"
      },
      "outputs": [],
      "source": [
        "GraphicalFormat(num_epochs,train_loss,train_accuracy,val_loss,val_accuracy)"
      ]
    },
    {
      "cell_type": "markdown",
      "metadata": {
        "id": "QKFP3cX0_OVi"
      },
      "source": [
        "**Increasing the epochs further-**"
      ]
    },
    {
      "cell_type": "code",
      "execution_count": null,
      "metadata": {
        "id": "AEKp8-q6-_4P"
      },
      "outputs": [],
      "source": [
        "num_epochs = 100\n",
        "train_loss = list()\n",
        "val_loss = list()\n",
        "train_accuracy = list()\n",
        "val_accuracy = list()\n",
        "best_val_loss = 1\n",
        "total_train = 0\n",
        "correct_train = 0\n",
        "total_val = 0\n",
        "correct_val = 0\n",
        "\n",
        "for epoch in range(num_epochs):\n",
        "    total_train_loss = 0\n",
        "    total_val_loss = 0\n",
        "    total_train = 0\n",
        "    correct_train = 0\n",
        "    model.train()\n",
        "    total_p = 0\n",
        "    # training\n",
        "    for itr, (image, label) in enumerate(train_dataloader):\n",
        "\n",
        "        if (torch.cuda.is_available()):\n",
        "            image = image.cuda()\n",
        "            label = label.cuda()\n",
        "\n",
        "        optimizer.zero_grad()\n",
        "\n",
        "        pred = model(image)\n",
        "\n",
        "        loss = criterion(pred, label)\n",
        "        total_train_loss += loss.item()\n",
        "        #ADDED HERE\n",
        "        _, predicted = torch.max(pred, 1)\n",
        "        total_train += label.size(0)\n",
        "        correct_train += (predicted == label).sum().item() \n",
        "        # print(\"correct train = \",correct_train)      \n",
        "\n",
        "        loss.backward()\n",
        "        optimizer.step()\n",
        "        # print(itr+1, \"Train Batch complete\")\n",
        "    accuracy_train = (100 * correct_train) / total_train\n",
        "    train_accuracy.append(accuracy_train)\n",
        "    total_train_loss = total_train_loss / (itr + 1)\n",
        "    train_loss.append(total_train_loss)\n",
        "    \n",
        "\n",
        "    # validation\n",
        "    model.eval()\n",
        "    total_val = 0\n",
        "    correct_val = 0\n",
        "    for itr, (image, label) in enumerate(val_dataloader):\n",
        "\n",
        "        if (torch.cuda.is_available()):\n",
        "            image = image.cuda()\n",
        "            label = label.cuda()\n",
        "\n",
        "        pred = model(image)\n",
        "\n",
        "        loss = criterion(pred, label)\n",
        "        total_val_loss += loss.item()\n",
        "\n",
        "        _, predicted = torch.max(pred, 1)\n",
        "        total_val += label.size(0)\n",
        "        correct_val += (predicted == label).sum().item() \n",
        "\n",
        "    accuracy = (100 * correct_val) / total_val\n",
        "    val_accuracy.append(accuracy)\n",
        "\n",
        "    total_val_loss = total_val_loss / (itr + 1)\n",
        "    val_loss.append(total_val_loss)\n",
        "\n",
        "    print('\\nEpoch: {}/{}, Train Loss: {:.8f},Train Accuracy: {:.8f}, Val Loss: {:.8f}, Val Accuracy: {:.8f}'.format(epoch + 1, num_epochs, total_train_loss,accuracy_train, total_val_loss, accuracy))\n",
        "\n",
        "    if total_val_loss < best_val_loss:\n",
        "        best_val_loss = total_val_loss\n",
        "        print(\"Saving the model state dictionary for Epoch: {} with Validation loss: {:.8f}\".format(epoch + 1, total_val_loss))\n",
        "        torch.save(model.state_dict(), \"model.dth\")"
      ]
    },
    {
      "cell_type": "code",
      "execution_count": null,
      "metadata": {
        "id": "_X6xyn01-_1q"
      },
      "outputs": [],
      "source": [
        "pd = TabularFormat(num_epochs,train_loss,train_accuracy,val_loss,val_accuracy)\n",
        "pd"
      ]
    },
    {
      "cell_type": "code",
      "execution_count": null,
      "metadata": {
        "id": "_VAQSHCf1kJI"
      },
      "outputs": [],
      "source": [
        "GraphicalFormat(num_epochs,train_loss,train_accuracy,val_loss,val_accuracy)"
      ]
    },
    {
      "cell_type": "markdown",
      "metadata": {
        "id": "hTMstEzhE0tU"
      },
      "source": [
        "**We observe that we are unable to reduce overfitting after a level, so we try something else-**"
      ]
    },
    {
      "cell_type": "markdown",
      "metadata": {
        "id": "9bqr5B_OM41X"
      },
      "source": [
        "### **Decreasing the batch size-**"
      ]
    },
    {
      "cell_type": "code",
      "execution_count": null,
      "metadata": {
        "id": "AfKoY8YcMcnH"
      },
      "outputs": [],
      "source": [
        "train_dataloader = torch.utils.data.DataLoader(cifar_trainset, batch_size=16, shuffle=True,num_workers=2)\n",
        "val_dataloader = torch.utils.data.DataLoader(cifar_valset, batch_size=16, shuffle=False,num_workers=2)\n",
        "test_dataloader = torch.utils.data.DataLoader(cifar_testset, batch_size=16, shuffle=False,num_workers=2)"
      ]
    },
    {
      "cell_type": "code",
      "execution_count": null,
      "metadata": {
        "id": "aoMyaAZJMyXz"
      },
      "outputs": [],
      "source": [
        "num_epochs = 100\n",
        "train_loss = list()\n",
        "val_loss = list()\n",
        "train_accuracy = list()\n",
        "val_accuracy = list()\n",
        "best_val_loss = 1\n",
        "total_train = 0\n",
        "correct_train = 0\n",
        "total_val = 0\n",
        "correct_val = 0\n",
        "\n",
        "for epoch in range(num_epochs):\n",
        "    total_train_loss = 0\n",
        "    total_val_loss = 0\n",
        "    total_train = 0\n",
        "    correct_train = 0\n",
        "    model.train()\n",
        "    total_p = 0\n",
        "    # training\n",
        "    for itr, (image, label) in enumerate(train_dataloader):\n",
        "\n",
        "        if (torch.cuda.is_available()):\n",
        "            image = image.cuda()\n",
        "            label = label.cuda()\n",
        "\n",
        "        optimizer.zero_grad()\n",
        "\n",
        "        pred = model(image)\n",
        "\n",
        "        loss = criterion(pred, label)\n",
        "        total_train_loss += loss.item()\n",
        "        #ADDED HERE\n",
        "        _, predicted = torch.max(pred, 1)\n",
        "        total_train += label.size(0)\n",
        "        correct_train += (predicted == label).sum().item() \n",
        "        # print(\"correct train = \",correct_train)      \n",
        "\n",
        "        loss.backward()\n",
        "        optimizer.step()\n",
        "        # print(itr+1, \"Train Batch complete\")\n",
        "    accuracy_train = (100 * correct_train) / total_train\n",
        "    train_accuracy.append(accuracy_train)\n",
        "    total_train_loss = total_train_loss / (itr + 1)\n",
        "    train_loss.append(total_train_loss)\n",
        "    \n",
        "\n",
        "    # validation\n",
        "    model.eval()\n",
        "    total_val = 0\n",
        "    correct_val = 0\n",
        "    for itr, (image, label) in enumerate(val_dataloader):\n",
        "\n",
        "        if (torch.cuda.is_available()):\n",
        "            image = image.cuda()\n",
        "            label = label.cuda()\n",
        "\n",
        "        pred = model(image)\n",
        "\n",
        "        loss = criterion(pred, label)\n",
        "        total_val_loss += loss.item()\n",
        "\n",
        "        _, predicted = torch.max(pred, 1)\n",
        "        total_val += label.size(0)\n",
        "        correct_val += (predicted == label).sum().item() \n",
        "\n",
        "    accuracy = (100 * correct_val) / total_val\n",
        "    val_accuracy.append(accuracy)\n",
        "\n",
        "    total_val_loss = total_val_loss / (itr + 1)\n",
        "    val_loss.append(total_val_loss)\n",
        "\n",
        "    print('\\nEpoch: {}/{}, Train Loss: {:.8f},Train Accuracy: {:.8f}, Val Loss: {:.8f}, Val Accuracy: {:.8f}'.format(epoch + 1, num_epochs, total_train_loss,accuracy_train, total_val_loss, accuracy))\n",
        "\n",
        "    if total_val_loss < best_val_loss:\n",
        "        best_val_loss = total_val_loss\n",
        "        print(\"Saving the model state dictionary for Epoch: {} with Validation loss: {:.8f}\".format(epoch + 1, total_val_loss))\n",
        "        torch.save(model.state_dict(), \"model.dth\")"
      ]
    },
    {
      "cell_type": "code",
      "execution_count": null,
      "metadata": {
        "id": "Mih6J_VhNBtC"
      },
      "outputs": [],
      "source": [
        "pd = TabularFormat(num_epochs,train_loss,train_accuracy,val_loss,val_accuracy)\n",
        "pd"
      ]
    },
    {
      "cell_type": "code",
      "execution_count": null,
      "metadata": {
        "id": "IVQEwcxNNFQI"
      },
      "outputs": [],
      "source": [
        "GraphicalFormat(num_epochs,train_loss,train_accuracy,val_loss,val_accuracy)"
      ]
    },
    {
      "cell_type": "markdown",
      "metadata": {
        "id": "rJbuvHDEU0dF"
      },
      "source": [
        "**Looks like the extent of overfitting has been reduced a little, but the validation accuracy is stuck at around $65\\%$.**"
      ]
    },
    {
      "cell_type": "markdown",
      "metadata": {
        "id": "GpY8zNyUE_mf"
      },
      "source": [
        "#**Data Augmentation-**"
      ]
    },
    {
      "cell_type": "markdown",
      "metadata": {
        "id": "3MGDSUR-bg6p"
      },
      "source": [
        "### **Prerequisites-**"
      ]
    },
    {
      "cell_type": "code",
      "execution_count": null,
      "metadata": {
        "id": "oVSy7U-Tf1eo"
      },
      "outputs": [],
      "source": [
        "import torch\n",
        "from torchvision import transforms\n",
        "import torchvision.datasets as datasets\n",
        "from torch import nn\n",
        "from torch import optim\n",
        "import torch.nn.functional as F\n",
        "import matplotlib.pyplot as plt\n",
        "import pandas as pd\n",
        "import numpy as np\n",
        "from torchvision.utils import make_grid\n",
        "from torch.utils.data.dataloader import DataLoader\n",
        "from torch.utils.data import random_split\n",
        "import torch.optim.lr_scheduler as lr_scheduler"
      ]
    },
    {
      "cell_type": "code",
      "execution_count": null,
      "metadata": {
        "id": "mzNIWd4DJAPL"
      },
      "outputs": [],
      "source": [
        "cifar_trainset_transformed = datasets.CIFAR10(root='./data', train=True, download=True, transform=transforms.Compose([transforms.RandomCrop(32, padding=4, padding_mode='reflect'),\n",
        "                                                                                                          transforms.RandomHorizontalFlip(),\n",
        "                                                                                                          transforms.RandomInvert(),\n",
        "                                                                                                          transforms.RandomVerticalFlip(),\n",
        "                                                                                                          # transforms.RandomRotate(),\n",
        "                                                                                                          # transforms.ColorJitter(brightness=0.1, contrast=0.1, saturation=0.1, hue=0.1),\n",
        "                                                                                                          # transforms.RandomSolarize(0.3),\n",
        "                                                                                                          transforms.ToTensor(),\n",
        "                                                                                                          transforms.Normalize((0.4914, 0.4822, 0.4465), (0.2023, 0.1994, 0.2010))]))\n",
        "# cifar_testset_transformed = datasets.CIFAR10(root='./data', train=False, download=True, transform=transforms.Compose([transforms.ToTensor(),transforms.Normalize((0.4914, 0.4822, 0.4465), (0.2023, 0.1994, 0.2010))]))"
      ]
    },
    {
      "cell_type": "markdown",
      "metadata": {
        "id": "e6z1s9I-JgI-"
      },
      "source": [
        "### **Increasing the dataset-**"
      ]
    },
    {
      "cell_type": "code",
      "execution_count": null,
      "metadata": {
        "id": "OBvysmGhJEc4"
      },
      "outputs": [],
      "source": [
        "cifar_trainset = cifar_trainset + cifar_trainset_transformed"
      ]
    },
    {
      "cell_type": "code",
      "execution_count": null,
      "metadata": {
        "id": "-KJoy2NBYQEm"
      },
      "outputs": [],
      "source": [
        "print(len(cifar_trainset))\n",
        "print(len(cifar_testset))\n",
        "print(len(cifar_valset))"
      ]
    },
    {
      "cell_type": "code",
      "execution_count": null,
      "metadata": {
        "id": "SF2JgK9gVbEJ"
      },
      "outputs": [],
      "source": [
        "train_dataloader = torch.utils.data.DataLoader(cifar_trainset, batch_size=256, shuffle=True,num_workers=2)\n",
        "val_dataloader = torch.utils.data.DataLoader(cifar_valset, batch_size=256, shuffle=False,num_workers=2)\n",
        "test_dataloader = torch.utils.data.DataLoader(cifar_testset, batch_size=256, shuffle=False,num_workers=2)"
      ]
    },
    {
      "cell_type": "code",
      "execution_count": null,
      "metadata": {
        "id": "7FH4HdqHVbBQ"
      },
      "outputs": [],
      "source": [
        "print(\"Training dataset size: \", len(cifar_trainset))\n",
        "print(\"Validation dataset size: \", len(cifar_valset))\n",
        "print(\"Testing dataset size: \", len(cifar_testset))"
      ]
    },
    {
      "cell_type": "code",
      "execution_count": null,
      "metadata": {
        "id": "jZ59ez7zVa-Z"
      },
      "outputs": [],
      "source": [
        "print(\"No. of batches in Training dataset : \", len(train_dataloader))\n",
        "print(\"No. of batches in Validation dataset : \", len(val_dataloader))\n",
        "print(\"No. of batches in Testing dataset : \", len(test_dataloader))"
      ]
    },
    {
      "cell_type": "code",
      "execution_count": null,
      "metadata": {
        "id": "4JkKicYhVa7i"
      },
      "outputs": [],
      "source": [
        "img, label = cifar_trainset[60]\n",
        "img = img/2 + 0.5\n",
        "plt.imshow(img.permute((1,2,0)))\n",
        "plt.show()\n",
        "print('Label as Number:', label)\n",
        "print('Label as Name:', classes[label])"
      ]
    },
    {
      "cell_type": "code",
      "execution_count": null,
      "metadata": {
        "id": "sY-m8MHQVa4s"
      },
      "outputs": [],
      "source": [
        "for i in range(6):\n",
        "  img, label = cifar_trainset[ i +64]\n",
        "  img = img/2 + 0.5 #why again denormalize?\n",
        "  plt.imshow(img.permute((1,2,0)))\n",
        "  plt.show()\n",
        "  print('Label as Number:', label)\n",
        "  print('Label as Name:', classes[label])"
      ]
    },
    {
      "cell_type": "code",
      "execution_count": null,
      "metadata": {
        "id": "CNBIhtLAVa1s"
      },
      "outputs": [],
      "source": [
        "for images, _ in train_dataloader:\n",
        "    images = images /2 + 0.5 \n",
        "    print('Shape of an Image (Batch Size, RGB, Pixels):', images.shape)\n",
        "    plt.figure(figsize=(16,8))\n",
        "    plt.axis('off')\n",
        "    plt.imshow(make_grid(images, nrow=16).permute((1,2,0))) # we need permute here because matplotlib wants to have the channels as the last dimension\n",
        "    break"
      ]
    },
    {
      "cell_type": "markdown",
      "metadata": {
        "id": "3bbtM7-OJ_k_"
      },
      "source": [
        "### **Training the same model after increasing the size of data and using learning rate scheduler-**"
      ]
    },
    {
      "cell_type": "markdown",
      "metadata": {
        "id": "R6qHr4tjZn2v"
      },
      "source": [
        "**Adding Multistep LR-**"
      ]
    },
    {
      "cell_type": "code",
      "execution_count": null,
      "metadata": {
        "id": "pi7i_to3KJOs"
      },
      "outputs": [],
      "source": [
        "class Model(torch.nn.Module):\n",
        "    def __init__(self):\n",
        "        super(Model, self).__init__()\n",
        "        self.conv_1 = torch.nn.Conv2d(in_channels=3, out_channels=6, kernel_size=5, stride=1, padding=0)\n",
        "        self.conv_2 = torch.nn.Conv2d(in_channels=6, out_channels=16, kernel_size=5, stride=1, padding=0)\n",
        "        # self.conv_3 = torch.nn.Conv2d(in_channels=64, out_channels=128, kernel_size=3, stride=1, padding=1)\n",
        "        # self.conv_4 = torch.nn.Conv2d(in_channels=128, out_channels=256, kernel_size=3, stride=1, padding=1)\n",
        "        self.max_pool2d = torch.nn.MaxPool2d(kernel_size=2, stride=2)\n",
        "        self.linear_1 = torch.nn.Linear(5 * 5 * 16, 128)\n",
        "        # self.linear_2 = torch.nn.Linear(512, 128)\n",
        "        self.linear_3 = torch.nn.Linear(128, 10)\n",
        "        self.dropout = torch.nn.Dropout(p=0.5)\n",
        "        self.relu = torch.nn.ReLU()\n",
        "\n",
        "    def forward(self, x):\n",
        "        x = self.conv_1(x)\n",
        "        x = self.relu(x)\n",
        "        x = self.max_pool2d(x)\n",
        "        x = self.conv_2(x)\n",
        "        x = self.relu(x)\n",
        "        x = self.max_pool2d(x)\n",
        "        # x = self.conv_3(x)\n",
        "        # x = self.max_pool2d(x)\n",
        "        # x = self.conv_4(x)\n",
        "        # x = self.max_pool2d(x)\n",
        "        x = x.reshape(x.size(0), -1)\n",
        "        x = self.linear_1(x)\n",
        "        x = self.relu(x)\n",
        "        x = self.dropout(x)\n",
        "        # x = self.linear_2(x)\n",
        "        # x = self.relu(x)\n",
        "        # x = self.dropout(x)\n",
        "        pred = self.linear_3(x)\n",
        "\n",
        "        return pred\n",
        "\n",
        "#Initialising the model\n",
        "model = Model()\n",
        "print(\"The overall model is - \\n\")\n",
        "print(model)\n",
        "dash = \"________________________________________________________________________\\n\\n\"\n",
        "print(dash)\n",
        "\n",
        "\n",
        "criterion = torch.nn.CrossEntropyLoss()\n",
        "optimizer = torch.optim.SGD(model.parameters(), lr=0.01,momentum=0.9, weight_decay=0.001)\n",
        "lr_scheduler = torch.optim.lr_scheduler.MultiStepLR(optimizer, milestones = [35,55,80], gamma=0.1, last_epoch=- 1, verbose=True)\n",
        "\n",
        "# Print model's state_dict\n",
        "print(\"Model's state_dict:\")\n",
        "for param_tensor in model.state_dict():\n",
        "    print(param_tensor, \"\\t\", model.state_dict()[param_tensor].size())\n",
        "\n",
        "# Print optimizer's state_dict\n",
        "print(\"Optimizer's state_dict:\")\n",
        "for var_name in optimizer.state_dict():\n",
        "    print(var_name, \"\\t\", optimizer.state_dict()[var_name])\n",
        "\n",
        "if (torch.cuda.is_available()):\n",
        "    model.cuda()"
      ]
    },
    {
      "cell_type": "code",
      "execution_count": null,
      "metadata": {
        "id": "a_QtRl80Kwvf"
      },
      "outputs": [],
      "source": [
        "num_epochs = 100\n",
        "train_loss = list()\n",
        "val_loss = list()\n",
        "train_accuracy = list()\n",
        "val_accuracy = list()\n",
        "best_val_loss = 1\n",
        "total_train = 0\n",
        "correct_train = 0\n",
        "total_val = 0\n",
        "correct_val = 0\n",
        "\n",
        "for epoch in range(num_epochs):\n",
        "    total_train_loss = 0\n",
        "    total_val_loss = 0\n",
        "    total_train = 0\n",
        "    correct_train = 0\n",
        "    model.train()\n",
        "    total_p = 0\n",
        "    # training\n",
        "    for itr, (image, label) in enumerate(train_dataloader):\n",
        "\n",
        "        if (torch.cuda.is_available()):\n",
        "            image = image.cuda()\n",
        "            label = label.cuda()\n",
        "\n",
        "        optimizer.zero_grad()\n",
        "\n",
        "        pred = model(image)\n",
        "\n",
        "        loss = criterion(pred, label)\n",
        "        total_train_loss += loss.item()\n",
        "        #ADDED HERE\n",
        "        _, predicted = torch.max(pred, 1)\n",
        "        total_train += label.size(0)\n",
        "        correct_train += (predicted == label).sum().item() \n",
        "        # print(\"correct train = \",correct_train)      \n",
        "\n",
        "        loss.backward()\n",
        "        optimizer.step()\n",
        "        # print(itr+1, \"Train Batch complete\")\n",
        "    lr_scheduler.step() \n",
        "    accuracy_train = (100 * correct_train) / total_train\n",
        "    train_accuracy.append(accuracy_train)\n",
        "    total_train_loss = total_train_loss / (itr + 1)\n",
        "    train_loss.append(total_train_loss)\n",
        "    \n",
        "\n",
        "    # validation\n",
        "    model.eval()\n",
        "    total_val = 0\n",
        "    correct_val = 0\n",
        "    for itr, (image, label) in enumerate(val_dataloader):\n",
        "\n",
        "        if (torch.cuda.is_available()):\n",
        "            image = image.cuda()\n",
        "            label = label.cuda()\n",
        "\n",
        "        pred = model(image)\n",
        "\n",
        "        loss = criterion(pred, label)\n",
        "        total_val_loss += loss.item()\n",
        "\n",
        "        _, predicted = torch.max(pred, 1)\n",
        "        total_val += label.size(0)\n",
        "        correct_val += (predicted == label).sum().item() \n",
        "\n",
        "    accuracy = (100 * correct_val) / total_val\n",
        "    val_accuracy.append(accuracy)\n",
        "\n",
        "    total_val_loss = total_val_loss / (itr + 1)\n",
        "    val_loss.append(total_val_loss)\n",
        "\n",
        "    print('\\nEpoch: {}/{}, Train Loss: {:.8f},Train Accuracy: {:.8f}, Val Loss: {:.8f}, Val Accuracy: {:.8f}'.format(epoch + 1, num_epochs, total_train_loss,accuracy_train, total_val_loss, accuracy))\n",
        "\n",
        "    if total_val_loss < best_val_loss:\n",
        "        best_val_loss = total_val_loss\n",
        "        print(\"Saving the model state dictionary for Epoch: {} with Validation loss: {:.8f}\".format(epoch + 1, total_val_loss))\n",
        "        torch.save(model.state_dict(), \"model.dth\")"
      ]
    },
    {
      "cell_type": "code",
      "execution_count": null,
      "metadata": {
        "id": "BHf_EdmSKwsG"
      },
      "outputs": [],
      "source": [
        "import pandas as pd\n",
        "pd = TabularFormat(num_epochs,train_loss,train_accuracy,val_loss,val_accuracy)\n",
        "pd"
      ]
    },
    {
      "cell_type": "code",
      "execution_count": null,
      "metadata": {
        "id": "akKsW1tDKwpE"
      },
      "outputs": [],
      "source": [
        "GraphicalFormat(num_epochs,train_loss,train_accuracy,val_loss,val_accuracy)"
      ]
    },
    {
      "cell_type": "markdown",
      "metadata": {
        "id": "Z11UnmeFC75M"
      },
      "source": [
        "# **RESNET-18 Architecture-**"
      ]
    },
    {
      "cell_type": "markdown",
      "metadata": {
        "id": "9Ovlpcyu-h-k"
      },
      "source": [
        "## **Basic RESNET-18 with Data Augmentation-**"
      ]
    },
    {
      "cell_type": "markdown",
      "metadata": {
        "id": "IYNjV6EbNhSp"
      },
      "source": [
        "![image.png](data:image/png;base64,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)"
      ]
    },
    {
      "cell_type": "code",
      "execution_count": null,
      "metadata": {
        "id": "EeOpigzwX53h"
      },
      "outputs": [],
      "source": [
        "# 3x3 convolution\n",
        "def conv3x3(in_channels, out_channels, stride=1):\n",
        "    return nn.Conv2d(in_channels, out_channels, kernel_size=3, \n",
        "                     stride=stride, padding=1, bias=False)\n",
        "\n",
        "    \n",
        "# Residual block\n",
        "class ResidualBlock(nn.Module):\n",
        "    def __init__(self, in_channels, out_channels, stride=1, downsample=None):\n",
        "        super(ResidualBlock, self).__init__()\n",
        "        self.conv1 = conv3x3(in_channels, out_channels, stride)\n",
        "        self.bn1 = nn.BatchNorm2d(out_channels)\n",
        "        self.relu = nn.ReLU(inplace=True)\n",
        "        self.conv2 = conv3x3(out_channels, out_channels)\n",
        "        self.bn2 = nn.BatchNorm2d(out_channels)\n",
        "        self.downsample = downsample\n",
        "\n",
        "    def forward(self, x):\n",
        "        residual = x\n",
        "        out = self.conv1(x)\n",
        "        out = self.bn1(out)\n",
        "        out = self.relu(out)\n",
        "        out = self.conv2(out)\n",
        "        out = self.bn2(out)\n",
        "        if self.downsample:\n",
        "            residual = self.downsample(x)\n",
        "        out += residual\n",
        "        out = self.relu(out)\n",
        "        return out\n",
        "\n",
        "# ResNet\n",
        "class ResNet(nn.Module):\n",
        "    def __init__(self, block, layers, num_classes=10):\n",
        "        super(ResNet, self).__init__()\n",
        "        self.in_channels = 16\n",
        "        self.conv = conv3x3(3, 16)\n",
        "        self.bn = nn.BatchNorm2d(16)\n",
        "        self.relu = nn.ReLU(inplace=True)\n",
        "        self.layer1 = self.make_layer(block, 16, layers[0])\n",
        "        self.layer2 = self.make_layer(block, 32, layers[1], 2)\n",
        "        self.layer3 = self.make_layer(block, 64, layers[2], 2)\n",
        "        self.avg_pool = nn.AvgPool2d(8)\n",
        "        self.fc = nn.Linear(64, num_classes)\n",
        "\n",
        "    def make_layer(self, block, out_channels, blocks, stride=1):\n",
        "        downsample = None\n",
        "        if (stride != 1) or (self.in_channels != out_channels):\n",
        "            downsample = nn.Sequential(\n",
        "                conv3x3(self.in_channels, out_channels, stride=stride),\n",
        "                nn.BatchNorm2d(out_channels))\n",
        "        layers = []\n",
        "        layers.append(block(self.in_channels, out_channels, stride, downsample))\n",
        "        self.in_channels = out_channels\n",
        "        for i in range(1, blocks):\n",
        "            layers.append(block(out_channels, out_channels))\n",
        "        return nn.Sequential(*layers)\n",
        "\n",
        "    def forward(self, x):\n",
        "        out = self.conv(x)\n",
        "        out = self.bn(out)\n",
        "        out = self.relu(out)\n",
        "        out = self.layer1(out)\n",
        "        out = self.layer2(out)\n",
        "        out = self.layer3(out)\n",
        "        out = self.avg_pool(out)\n",
        "        out = out.view(out.size(0), -1)\n",
        "        out = self.fc(out)\n",
        "        return out\n",
        "\n",
        "#Initialising the model\n",
        "model = ResNet(ResidualBlock, [2, 2, 2])\n",
        "print(\"The overall model is - \\n\")\n",
        "print(model)\n",
        "dash = \"________________________________________________________________________\\n\\n\"\n",
        "print(dash)\n",
        "\n",
        "\n",
        "criterion = torch.nn.CrossEntropyLoss()\n",
        "optimizer = torch.optim.SGD(model.parameters(), lr=0.01,momentum=0.9, weight_decay=0.001)\n",
        "\n",
        "# criterion = nn.CrossEntropyLoss()\n",
        "# optimizer = torch.optim.Adam(model.parameters(), lr=0.01, weight_decay=0.001)\n",
        "\n",
        "# Print model's state_dict\n",
        "print(\"Model's state_dict:\")\n",
        "for param_tensor in model.state_dict():\n",
        "    print(param_tensor, \"\\t\", model.state_dict()[param_tensor].size())\n",
        "\n",
        "# Print optimizer's state_dict\n",
        "print(\"Optimizer's state_dict:\")\n",
        "for var_name in optimizer.state_dict():\n",
        "    print(var_name, \"\\t\", optimizer.state_dict()[var_name])\n",
        "\n",
        "# For updating learning rate\n",
        "def update_lr(optimizer, lr):    \n",
        "    for param_group in optimizer.param_groups:\n",
        "        param_group['lr'] = lr\n",
        "\n",
        "if (torch.cuda.is_available()):\n",
        "    model.cuda()\n",
        "\n",
        "def count_parameters(model):\n",
        "    return sum(p.numel() for p in model.parameters() if p.requires_grad)\n",
        "\n",
        "print(f'The model has {count_parameters(model):,} trainable parameters')"
      ]
    },
    {
      "cell_type": "code",
      "execution_count": null,
      "metadata": {
        "id": "WCoNtD16uyQb"
      },
      "outputs": [],
      "source": [
        "num_epochs = 100\n",
        "train_loss = list()\n",
        "val_loss = list()\n",
        "train_accuracy = list()\n",
        "val_accuracy = list()\n",
        "best_val_loss = 1\n",
        "total_train = 0\n",
        "correct_train = 0\n",
        "total_val = 0\n",
        "correct_val = 0\n",
        "\n",
        "for epoch in range(num_epochs):\n",
        "    total_train_loss = 0\n",
        "    total_val_loss = 0\n",
        "    total_train = 0\n",
        "    correct_train = 0\n",
        "    model.train()\n",
        "    total_p = 0\n",
        "    # training\n",
        "    for itr, (image, label) in enumerate(train_dataloader):\n",
        "\n",
        "        if (torch.cuda.is_available()):\n",
        "            image = image.cuda()\n",
        "            label = label.cuda()\n",
        "\n",
        "        optimizer.zero_grad()\n",
        "\n",
        "        pred = model(image)\n",
        "\n",
        "        loss = criterion(pred, label)\n",
        "        total_train_loss += loss.item()\n",
        "        #ADDED HERE\n",
        "        \n",
        "        _, predicted = torch.max(pred, 1)\n",
        "        total_train += label.shape[0]\n",
        "        correct_train += (predicted == label).sum().item() \n",
        "        # print(\"correct train = \",correct_train)      \n",
        "\n",
        "        loss.backward()\n",
        "        optimizer.step()\n",
        "        # print(itr+1, \"Train Batch complete\")\n",
        "    accuracy_train = (100 * correct_train) / total_train\n",
        "    train_accuracy.append(accuracy_train)\n",
        "    total_train_loss = total_train_loss / (itr + 1)\n",
        "    train_loss.append(total_train_loss)\n",
        "    \n",
        "\n",
        "    # validation\n",
        "    model.eval()\n",
        "    total_val = 0\n",
        "    correct_val = 0\n",
        "    for itr, (image, label) in enumerate(val_dataloader):\n",
        "\n",
        "        if (torch.cuda.is_available()):\n",
        "            image = image.cuda()\n",
        "            label = label.cuda()\n",
        "\n",
        "        pred = model(image)\n",
        "\n",
        "        loss = criterion(pred, label)\n",
        "        total_val_loss += loss.item()\n",
        "        \n",
        "        _, predicted = torch.max(pred, 1)\n",
        "        total_val += label.shape[0]\n",
        "        correct_val += (predicted == label).sum().item() \n",
        "\n",
        "    accuracy = (100 * correct_val) / total_val\n",
        "    val_accuracy.append(accuracy)\n",
        "\n",
        "    total_val_loss = total_val_loss / (itr + 1)\n",
        "    val_loss.append(total_val_loss)\n",
        "\n",
        "    print('\\nEpoch: {}/{}, Train Loss: {:.8f},Train Accuracy: {:.8f}, Val Loss: {:.8f}, Val Accuracy: {:.8f}'.format(epoch + 1, num_epochs, total_train_loss,accuracy_train, total_val_loss, accuracy))\n",
        "\n",
        "    if total_val_loss < best_val_loss:\n",
        "        best_val_loss = total_val_loss\n",
        "        print(\"Saving the model state dictionary for Epoch: {} with Validation loss: {:.8f}\".format(epoch + 1, total_val_loss))\n",
        "        torch.save(model.state_dict(), \"model.dth\")"
      ]
    },
    {
      "cell_type": "code",
      "execution_count": null,
      "metadata": {
        "id": "rFB2vo1ruyNT"
      },
      "outputs": [],
      "source": [
        "import pandas as pd\n",
        "pd = TabularFormat(num_epochs,train_loss,train_accuracy,val_loss,val_accuracy)\n",
        "pd"
      ]
    },
    {
      "cell_type": "code",
      "execution_count": null,
      "metadata": {
        "id": "11bE5spquyKd"
      },
      "outputs": [],
      "source": [
        "GraphicalFormat(num_epochs,train_loss,train_accuracy,val_loss,val_accuracy)"
      ]
    },
    {
      "cell_type": "markdown",
      "metadata": {
        "id": "7dLrHqS995CT"
      },
      "source": [
        "## **What if we dont do Data Augmentation on RESNET-18 ?**"
      ]
    },
    {
      "cell_type": "code",
      "execution_count": null,
      "metadata": {
        "id": "INtqAtoIuyHV"
      },
      "outputs": [],
      "source": [
        "# 3x3 convolution\n",
        "def conv3x3(in_channels, out_channels, stride=1):\n",
        "    return nn.Conv2d(in_channels, out_channels, kernel_size=3, \n",
        "                     stride=stride, padding=1, bias=False)\n",
        "\n",
        "    \n",
        "# Residual block\n",
        "class ResidualBlock(nn.Module):\n",
        "    def __init__(self, in_channels, out_channels, stride=1, downsample=None):\n",
        "        super(ResidualBlock, self).__init__()\n",
        "        self.conv1 = conv3x3(in_channels, out_channels, stride)\n",
        "        self.bn1 = nn.BatchNorm2d(out_channels)\n",
        "        self.relu = nn.ReLU(inplace=True)\n",
        "        self.conv2 = conv3x3(out_channels, out_channels)\n",
        "        self.bn2 = nn.BatchNorm2d(out_channels)\n",
        "        self.downsample = downsample\n",
        "\n",
        "    def forward(self, x):\n",
        "        residual = x\n",
        "        out = self.conv1(x)\n",
        "        out = self.bn1(out)\n",
        "        out = self.relu(out)\n",
        "        out = self.conv2(out)\n",
        "        out = self.bn2(out)\n",
        "        if self.downsample:\n",
        "            residual = self.downsample(x)\n",
        "        out += residual\n",
        "        out = self.relu(out)\n",
        "        return out\n",
        "\n",
        "# ResNet\n",
        "class ResNet(nn.Module):\n",
        "    def __init__(self, block, layers, num_classes=10):\n",
        "        super(ResNet, self).__init__()\n",
        "        self.in_channels = 16\n",
        "        self.conv = conv3x3(3, 16)\n",
        "        self.bn = nn.BatchNorm2d(16)\n",
        "        self.relu = nn.ReLU(inplace=True)\n",
        "        self.layer1 = self.make_layer(block, 16, layers[0])\n",
        "        self.layer2 = self.make_layer(block, 32, layers[1], 2)\n",
        "        self.layer3 = self.make_layer(block, 64, layers[2], 2)\n",
        "        self.avg_pool = nn.AvgPool2d(8)\n",
        "        self.fc = nn.Linear(64, num_classes)\n",
        "\n",
        "    def make_layer(self, block, out_channels, blocks, stride=1):\n",
        "        downsample = None\n",
        "        if (stride != 1) or (self.in_channels != out_channels):\n",
        "            downsample = nn.Sequential(\n",
        "                conv3x3(self.in_channels, out_channels, stride=stride),\n",
        "                nn.BatchNorm2d(out_channels))\n",
        "        layers = []\n",
        "        layers.append(block(self.in_channels, out_channels, stride, downsample))\n",
        "        self.in_channels = out_channels\n",
        "        for i in range(1, blocks):\n",
        "            layers.append(block(out_channels, out_channels))\n",
        "        return nn.Sequential(*layers)\n",
        "\n",
        "    def forward(self, x):\n",
        "        out = self.conv(x)\n",
        "        out = self.bn(out)\n",
        "        out = self.relu(out)\n",
        "        out = self.layer1(out)\n",
        "        out = self.layer2(out)\n",
        "        out = self.layer3(out)\n",
        "        out = self.avg_pool(out)\n",
        "        out = out.view(out.size(0), -1)\n",
        "        out = self.fc(out)\n",
        "        return out\n",
        "\n",
        "#Initialising the model\n",
        "model = ResNet(ResidualBlock, [2, 2, 2])\n",
        "print(\"The overall model is - \\n\")\n",
        "print(model)\n",
        "dash = \"________________________________________________________________________\\n\\n\"\n",
        "print(dash)\n",
        "\n",
        "\n",
        "criterion = torch.nn.CrossEntropyLoss()\n",
        "optimizer = torch.optim.SGD(model.parameters(), lr=0.01,momentum=0.9, weight_decay=0.001)\n",
        "\n",
        "# criterion = nn.CrossEntropyLoss()\n",
        "# optimizer = torch.optim.Adam(model.parameters(), lr=0.01, weight_decay=0.001)\n",
        "\n",
        "# Print model's state_dict\n",
        "print(\"Model's state_dict:\")\n",
        "for param_tensor in model.state_dict():\n",
        "    print(param_tensor, \"\\t\", model.state_dict()[param_tensor].size())\n",
        "\n",
        "# Print optimizer's state_dict\n",
        "print(\"Optimizer's state_dict:\")\n",
        "for var_name in optimizer.state_dict():\n",
        "    print(var_name, \"\\t\", optimizer.state_dict()[var_name])\n",
        "\n",
        "# For updating learning rate\n",
        "def update_lr(optimizer, lr):    \n",
        "    for param_group in optimizer.param_groups:\n",
        "        param_group['lr'] = lr\n",
        "\n",
        "if (torch.cuda.is_available()):\n",
        "    model.cuda()\n",
        "\n",
        "def count_parameters(model):\n",
        "    return sum(p.numel() for p in model.parameters() if p.requires_grad)\n",
        "\n",
        "print(f'The model has {count_parameters(model):,} trainable parameters')"
      ]
    },
    {
      "cell_type": "code",
      "execution_count": null,
      "metadata": {
        "id": "xQL0obzmVafr"
      },
      "outputs": [],
      "source": [
        "num_epochs = 40\n",
        "train_loss = list()\n",
        "val_loss = list()\n",
        "train_accuracy = list()\n",
        "val_accuracy = list()\n",
        "best_val_loss = 1\n",
        "total_train = 0\n",
        "correct_train = 0\n",
        "total_val = 0\n",
        "correct_val = 0\n",
        "\n",
        "for epoch in range(num_epochs):\n",
        "    total_train_loss = 0\n",
        "    total_val_loss = 0\n",
        "    total_train = 0\n",
        "    correct_train = 0\n",
        "    model.train()\n",
        "    total_p = 0\n",
        "    # training\n",
        "    for itr, (image, label) in enumerate(train_dataloader):\n",
        "\n",
        "        if (torch.cuda.is_available()):\n",
        "            image = image.cuda()\n",
        "            label = label.cuda()\n",
        "\n",
        "        optimizer.zero_grad()\n",
        "\n",
        "        pred = model(image)\n",
        "\n",
        "        loss = criterion(pred, label)\n",
        "        total_train_loss += loss.item()\n",
        "        #ADDED HERE\n",
        "        \n",
        "        _, predicted = torch.max(pred, 1)\n",
        "        total_train += label.shape[0]\n",
        "        correct_train += (predicted == label).sum().item() \n",
        "        # print(\"correct train = \",correct_train)      \n",
        "\n",
        "        loss.backward()\n",
        "        optimizer.step()\n",
        "        # print(itr+1, \"Train Batch complete\")\n",
        "    accuracy_train = (100 * correct_train) / total_train\n",
        "    train_accuracy.append(accuracy_train)\n",
        "    total_train_loss = total_train_loss / (itr + 1)\n",
        "    train_loss.append(total_train_loss)\n",
        "    \n",
        "\n",
        "    # validation\n",
        "    model.eval()\n",
        "    total_val = 0\n",
        "    correct_val = 0\n",
        "    for itr, (image, label) in enumerate(val_dataloader):\n",
        "\n",
        "        if (torch.cuda.is_available()):\n",
        "            image = image.cuda()\n",
        "            label = label.cuda()\n",
        "\n",
        "        pred = model(image)\n",
        "\n",
        "        loss = criterion(pred, label)\n",
        "        total_val_loss += loss.item()\n",
        "        \n",
        "        _, predicted = torch.max(pred, 1)\n",
        "        total_val += label.shape[0]\n",
        "        correct_val += (predicted == label).sum().item() \n",
        "\n",
        "    accuracy = (100 * correct_val) / total_val\n",
        "    val_accuracy.append(accuracy)\n",
        "\n",
        "    total_val_loss = total_val_loss / (itr + 1)\n",
        "    val_loss.append(total_val_loss)\n",
        "\n",
        "    print('\\nEpoch: {}/{}, Train Loss: {:.8f},Train Accuracy: {:.8f}, Val Loss: {:.8f}, Val Accuracy: {:.8f}'.format(epoch + 1, num_epochs, total_train_loss,accuracy_train, total_val_loss, accuracy))\n",
        "\n",
        "    if total_val_loss < best_val_loss:\n",
        "        best_val_loss = total_val_loss\n",
        "        print(\"Saving the model state dictionary for Epoch: {} with Validation loss: {:.8f}\".format(epoch + 1, total_val_loss))\n",
        "        torch.save(model.state_dict(), \"model.dth\")"
      ]
    },
    {
      "cell_type": "code",
      "execution_count": null,
      "metadata": {
        "id": "eTnaxKfH-3LU"
      },
      "outputs": [],
      "source": [
        "import pandas as pd\n",
        "pd = TabularFormat(num_epochs,train_loss,train_accuracy,val_loss,val_accuracy)\n",
        "pd"
      ]
    },
    {
      "cell_type": "code",
      "execution_count": null,
      "metadata": {
        "id": "6CXo5iOF-3Is"
      },
      "outputs": [],
      "source": [
        "GraphicalFormat(num_epochs,train_loss,train_accuracy,val_loss,val_accuracy)"
      ]
    },
    {
      "cell_type": "markdown",
      "metadata": {
        "id": "Pb4siPy7Dspa"
      },
      "source": [
        "**Without data augmentation, we can see that there is overfitting in the model.**"
      ]
    },
    {
      "cell_type": "markdown",
      "metadata": {
        "id": "nC3GCtrUD84_"
      },
      "source": [
        "**So, we will be proceeding forward with data augmentation-**"
      ]
    },
    {
      "cell_type": "markdown",
      "metadata": {
        "id": "lJBwwBLlEDpy"
      },
      "source": [
        "## **Again training the model, with data augmentation, and increasing the number of features-**\n",
        "\n"
      ]
    },
    {
      "cell_type": "code",
      "execution_count": null,
      "metadata": {
        "id": "sk5DrMGL-3Fk"
      },
      "outputs": [],
      "source": [
        "# 3x3 convolution\n",
        "def conv3x3(in_channels, out_channels, stride=1):\n",
        "    return nn.Conv2d(in_channels, out_channels, kernel_size=3, \n",
        "                     stride=stride, padding=1, bias=False)\n",
        "\n",
        "    \n",
        "# Residual block\n",
        "class ResidualBlock(nn.Module):\n",
        "    def __init__(self, in_channels, out_channels, stride=1, downsample=None):\n",
        "        super(ResidualBlock, self).__init__()\n",
        "        self.conv1 = conv3x3(in_channels, out_channels, stride)\n",
        "        self.bn1 = nn.BatchNorm2d(out_channels)\n",
        "        self.relu = nn.ReLU(inplace=True)\n",
        "        self.conv2 = conv3x3(out_channels, out_channels)\n",
        "        self.bn2 = nn.BatchNorm2d(out_channels)\n",
        "        self.downsample = downsample\n",
        "\n",
        "    def forward(self, x):\n",
        "        residual = x\n",
        "        out = self.conv1(x)\n",
        "        out = self.bn1(out)\n",
        "        out = self.relu(out)\n",
        "        out = self.conv2(out)\n",
        "        out = self.bn2(out)\n",
        "        if self.downsample:\n",
        "            residual = self.downsample(x)\n",
        "        out += residual\n",
        "        out = self.relu(out)\n",
        "        return out\n",
        "\n",
        "# ResNet\n",
        "class ResNet(nn.Module):\n",
        "    def __init__(self, block, layers, num_classes=10):\n",
        "        super(ResNet, self).__init__()\n",
        "        self.in_channels = 16\n",
        "        self.conv = conv3x3(3, 16)\n",
        "        self.bn = nn.BatchNorm2d(16)\n",
        "        self.relu = nn.ReLU(inplace=True)\n",
        "        self.layer1 = self.make_layer(block, 64, layers[0])\n",
        "        self.layer2 = self.make_layer(block, 128, layers[1], 2)\n",
        "        self.layer3 = self.make_layer(block, 256, layers[2], 2)\n",
        "        self.avg_pool = nn.AvgPool2d(8)\n",
        "        self.fc = nn.Linear(256, num_classes)\n",
        "\n",
        "    def make_layer(self, block, out_channels, blocks, stride=1):\n",
        "        downsample = None\n",
        "        if (stride != 1) or (self.in_channels != out_channels):\n",
        "            downsample = nn.Sequential(\n",
        "                conv3x3(self.in_channels, out_channels, stride=stride),\n",
        "                nn.BatchNorm2d(out_channels))\n",
        "        layers = []\n",
        "        layers.append(block(self.in_channels, out_channels, stride, downsample))\n",
        "        self.in_channels = out_channels\n",
        "        for i in range(1, blocks):\n",
        "            layers.append(block(out_channels, out_channels))\n",
        "        return nn.Sequential(*layers)\n",
        "\n",
        "    def forward(self, x):\n",
        "        out = self.conv(x)\n",
        "        out = self.bn(out)\n",
        "        out = self.relu(out)\n",
        "        out = self.layer1(out)\n",
        "        out = self.layer2(out)\n",
        "        out = self.layer3(out)\n",
        "        out = self.avg_pool(out)\n",
        "        out = out.view(out.size(0), -1)\n",
        "        out = self.fc(out)\n",
        "        return out\n",
        "\n",
        "#Initialising the model\n",
        "model_best = ResNet(ResidualBlock, [2, 2, 2])\n",
        "print(\"The overall model is - \\n\")\n",
        "print(model_best)\n",
        "dash = \"________________________________________________________________________\\n\\n\"\n",
        "print(dash)\n",
        "\n",
        "\n",
        "criterion = torch.nn.CrossEntropyLoss()\n",
        "optimizer = torch.optim.SGD(model_best.parameters(), lr=0.01,momentum=0.9, weight_decay=0.001)\n",
        "\n",
        "# criterion = nn.CrossEntropyLoss()\n",
        "# optimizer = torch.optim.Adam(model.parameters(), lr=0.01, weight_decay=0.001)\n",
        "\n",
        "# Print model's state_dict\n",
        "print(\"Model's state_dict:\")\n",
        "for param_tensor in model_best.state_dict():\n",
        "    print(param_tensor, \"\\t\", model_best.state_dict()[param_tensor].size())\n",
        "\n",
        "# Print optimizer's state_dict\n",
        "print(\"Optimizer's state_dict:\")\n",
        "for var_name in optimizer.state_dict():\n",
        "    print(var_name, \"\\t\", optimizer.state_dict()[var_name])\n",
        "\n",
        "# For updating learning rate\n",
        "def update_lr(optimizer, lr):    \n",
        "    for param_group in optimizer.param_groups:\n",
        "        param_group['lr'] = lr\n",
        "\n",
        "if (torch.cuda.is_available()):\n",
        "    model_best.cuda()\n",
        "\n",
        "def count_parameters(model_best):\n",
        "    return sum(p.numel() for p in model_best.parameters() if p.requires_grad)\n",
        "\n",
        "print(f'The model has {count_parameters(model_best):,} trainable parameters')"
      ]
    },
    {
      "cell_type": "code",
      "execution_count": null,
      "metadata": {
        "id": "rUzy-Yhu-3Cc"
      },
      "outputs": [],
      "source": [
        "num_epochs = 150\n",
        "train_loss = list()\n",
        "val_loss = list()\n",
        "train_accuracy = list()\n",
        "val_accuracy = list()\n",
        "best_val_loss = 1\n",
        "total_train = 0\n",
        "correct_train = 0\n",
        "total_val = 0\n",
        "correct_val = 0\n",
        "\n",
        "for epoch in range(num_epochs):\n",
        "    total_train_loss = 0\n",
        "    total_val_loss = 0\n",
        "    total_train = 0\n",
        "    correct_train = 0\n",
        "    model_best.train()\n",
        "    total_p = 0\n",
        "    # training\n",
        "    for itr, (image, label) in enumerate(train_dataloader):\n",
        "\n",
        "        if (torch.cuda.is_available()):\n",
        "            image = image.cuda()\n",
        "            label = label.cuda()\n",
        "\n",
        "        optimizer.zero_grad()\n",
        "\n",
        "        pred = model_best(image)\n",
        "\n",
        "        loss = criterion(pred, label)\n",
        "        total_train_loss += loss.item()\n",
        "        #ADDED HERE\n",
        "        \n",
        "        _, predicted = torch.max(pred, 1)\n",
        "        total_train += label.shape[0]\n",
        "        correct_train += (predicted == label).sum().item() \n",
        "        # print(\"correct train = \",correct_train)      \n",
        "\n",
        "        loss.backward()\n",
        "        optimizer.step()\n",
        "        # print(itr+1, \"Train Batch complete\")\n",
        "    accuracy_train = (100 * correct_train) / total_train\n",
        "    train_accuracy.append(accuracy_train)\n",
        "    total_train_loss = total_train_loss / (itr + 1)\n",
        "    train_loss.append(total_train_loss)\n",
        "    \n",
        "\n",
        "    # validation\n",
        "    model_best.eval()\n",
        "    total_val = 0\n",
        "    correct_val = 0\n",
        "    for itr, (image, label) in enumerate(val_dataloader):\n",
        "\n",
        "        if (torch.cuda.is_available()):\n",
        "            image = image.cuda()\n",
        "            label = label.cuda()\n",
        "\n",
        "        pred = model_best(image)\n",
        "\n",
        "        loss = criterion(pred, label)\n",
        "        total_val_loss += loss.item()\n",
        "        \n",
        "        _, predicted = torch.max(pred, 1)\n",
        "        total_val += label.shape[0]\n",
        "        correct_val += (predicted == label).sum().item() \n",
        "\n",
        "    accuracy = (100 * correct_val) / total_val\n",
        "    val_accuracy.append(accuracy)\n",
        "\n",
        "    total_val_loss = total_val_loss / (itr + 1)\n",
        "    val_loss.append(total_val_loss)\n",
        "\n",
        "    print('\\nEpoch: {}/{}, Train Loss: {:.8f},Train Accuracy: {:.8f}, Val Loss: {:.8f}, Val Accuracy: {:.8f}'.format(epoch + 1, num_epochs, total_train_loss,accuracy_train, total_val_loss, accuracy))\n",
        "\n",
        "    if total_val_loss < best_val_loss:\n",
        "        best_val_loss = total_val_loss\n",
        "        print(\"Saving the model state dictionary for Epoch: {} with Validation loss: {:.8f}\".format(epoch + 1, total_val_loss))\n",
        "        torch.save(model_best.state_dict(), \"model_best.dth\")"
      ]
    },
    {
      "cell_type": "code",
      "execution_count": null,
      "metadata": {
        "id": "2K6S7lXT-2_E"
      },
      "outputs": [],
      "source": [
        "import pandas as pd\n",
        "pd = TabularFormat(num_epochs,train_loss,train_accuracy,val_loss,val_accuracy)\n",
        "pd"
      ]
    },
    {
      "cell_type": "code",
      "execution_count": null,
      "metadata": {
        "id": "-g-eArny-28O"
      },
      "outputs": [],
      "source": [
        "GraphicalFormat(num_epochs,train_loss,train_accuracy,val_loss,val_accuracy)"
      ]
    },
    {
      "cell_type": "markdown",
      "metadata": {
        "id": "Vv6NOM7bnPa4"
      },
      "source": [
        "# **Evaluating the model-**"
      ]
    },
    {
      "cell_type": "code",
      "execution_count": null,
      "metadata": {
        "id": "5YJzxp4TzF-o"
      },
      "outputs": [],
      "source": [
        "total_val_loss = 0\n",
        "# validation\n",
        "#model_best = ResNet(ResidualBlock, [2, 2, 2])\n",
        "model_best = ResNet(ResidualBlock, [2, 2, 2])\n",
        "\n",
        "\n",
        "model_best.load_state_dict(torch.load('model.dth'))\n",
        "model_best.eval()\n",
        "total_val = 0\n",
        "correct_val = 0\n",
        "for itr, (image, label) in enumerate(test_dataloader):\n",
        "\n",
        "    if (torch.cuda.is_available()):\n",
        "        image = image.cuda()\n",
        "        label = label.cuda()\n",
        "\n",
        "    pred = model_best(image)\n",
        "\n",
        "    loss = criterion(pred, label)\n",
        "    total_val_loss += loss.item()\n",
        "    \n",
        "    _, predicted = torch.max(pred, 1)\n",
        "    total_val += label.shape[0]\n",
        "    correct_val += (predicted == label).sum().item() \n",
        "\n",
        "accuracy = (100 * correct_val) / total_val\n",
        "val_accuracy.append(accuracy)\n",
        "\n",
        "total_val_loss = total_val_loss / (itr + 1)\n",
        "val_loss.append(total_val_loss)\n",
        "print('\\n Val Loss: {:.8f}, Val Accuracy: {:.8f}'.format( total_val_loss, accuracy))"
      ]
    },
    {
      "cell_type": "code",
      "execution_count": null,
      "metadata": {
        "id": "A9WnXw00zF20"
      },
      "outputs": [],
      "source": []
    }
  ],
  "metadata": {
    "accelerator": "GPU",
    "colab": {
      "collapsed_sections": [],
      "provenance": [],
      "include_colab_link": true
    },
    "gpuClass": "standard",
    "kernelspec": {
      "display_name": "Python 3",
      "name": "python3"
    },
    "language_info": {
      "name": "python"
    }
  },
  "nbformat": 4,
  "nbformat_minor": 0
}